{
  "nbformat": 4,
  "nbformat_minor": 0,
  "metadata": {
    "colab": {
      "name": "iris_project.ipynb",
      "provenance": [],
      "authorship_tag": "ABX9TyN/3MBC+E6duBu9MfFfpn6m",
      "include_colab_link": true
    },
    "kernelspec": {
      "name": "python3",
      "display_name": "Python 3"
    }
  },
  "cells": [
    {
      "cell_type": "markdown",
      "metadata": {
        "id": "view-in-github",
        "colab_type": "text"
      },
      "source": [
        "<a href=\"https://colab.research.google.com/github/AllieUbisse/end-to-end-ml/blob/master/notebooks/iris_project.ipynb\" target=\"_parent\"><img src=\"https://colab.research.google.com/assets/colab-badge.svg\" alt=\"Open In Colab\"/></a>"
      ]
    },
    {
      "cell_type": "markdown",
      "metadata": {
        "id": "yvXPdfNEYM86",
        "colab_type": "text"
      },
      "source": [
        "# How Do You Start Machine Learning in Python?\n",
        "\n",
        "**Beginners Need A Small End-to-End Project**\n",
        "Books and courses are frustrating. They give you lots of recipes and snippets, but you never get to see how they all fit together.\n",
        "\n",
        "When you are applying machine learning to your own datasets, you are working on a project.\n",
        "\n",
        "A machine learning project may not be linear, but it has a number of well known steps:\n",
        "\n",
        "- Define Problem [problem framing ]\n",
        "- Prepare Data.\n",
        "- Evaluate Algorithms.\n",
        "- Improve Results.\n",
        "- Present Results."
      ]
    },
    {
      "cell_type": "markdown",
      "metadata": {
        "id": "SscJ1zsLYx2s",
        "colab_type": "text"
      },
      "source": [
        "# Imports"
      ]
    },
    {
      "cell_type": "code",
      "metadata": {
        "id": "PoTt6kO2XB2Q",
        "colab_type": "code",
        "colab": {
          "base_uri": "https://localhost:8080/",
          "height": 34
        },
        "outputId": "70d35681-d24f-4faa-9bfd-53199b03dff2"
      },
      "source": [
        "# data manipulation\n",
        "import numpy as np\n",
        "import pandas as pd\n",
        "from pandas.plotting import scatter_matrix\n",
        "\n",
        "\n",
        "# visualization\n",
        "import matplotlib.pyplot as plt\n",
        "%matplotlib inline\n",
        "import seaborn as sns\n",
        "\n",
        "# evaluation\n",
        "from sklearn.model_selection import train_test_split\n",
        "from sklearn.model_selection import cross_val_score\n",
        "from sklearn.model_selection import StratifiedKFold\n",
        "from sklearn.metrics import classification_report\n",
        "from sklearn.metrics import accuracy_score\n",
        "from sklearn.metrics import confusion_matrix\n",
        "\n",
        "# models\n",
        "from sklearn.linear_model import LogisticRegression\n",
        "from sklearn.tree import DecisionTreeClassifier\n",
        "from sklearn.neighbors import KNeighborsClassifier\n",
        "from sklearn.discriminant_analysis import LinearDiscriminantAnalysis\n",
        "from sklearn.naive_bayes import GaussianNB\n",
        "from sklearn.svm import SVC\n",
        "\n",
        "print('setup Complete')"
      ],
      "execution_count": 7,
      "outputs": [
        {
          "output_type": "stream",
          "text": [
            "setup Complete\n"
          ],
          "name": "stdout"
        }
      ]
    },
    {
      "cell_type": "markdown",
      "metadata": {
        "id": "1pyMVYAsaClH",
        "colab_type": "text"
      },
      "source": [
        "# 2 Load Dataset"
      ]
    },
    {
      "cell_type": "code",
      "metadata": {
        "id": "3KQH4b2BOLZh",
        "colab_type": "code",
        "colab": {}
      },
      "source": [
        "# load data\n",
        "url2 = 'https://raw.githubusercontent.com/Explore-AI/Public-Data/master/Data/classification_sprint/iris.csv'\n",
        "iris_df = pd.read_csv(url2)\n",
        "iris_df.rename(columns={'species': 'class'}, inplace=True)"
      ],
      "execution_count": 0,
      "outputs": []
    },
    {
      "cell_type": "markdown",
      "metadata": {
        "id": "ffDWFJtId6Zq",
        "colab_type": "text"
      },
      "source": [
        "# 3. Summarize the Dataset\n",
        "Now it is time to take a look at the data.\n",
        "\n",
        "In this step we are going to take a look at the data a few different ways:\n",
        "\n",
        "- Dimensions of the dataset.\n",
        "- info of the dataset.\n",
        "- Peek at the data itself.\n",
        "- Statistical summary of all attributes.\n",
        "- Breakdown of the data by the class variable.\n",
        "\n"
      ]
    },
    {
      "cell_type": "code",
      "metadata": {
        "id": "Ipz1A9ibdeEw",
        "colab_type": "code",
        "colab": {
          "base_uri": "https://localhost:8080/",
          "height": 34
        },
        "outputId": "8fe112f1-c21f-48b3-ae05-c54b353e4766"
      },
      "source": [
        "# dimension\n",
        "iris_df.shape"
      ],
      "execution_count": 117,
      "outputs": [
        {
          "output_type": "execute_result",
          "data": {
            "text/plain": [
              "(150, 5)"
            ]
          },
          "metadata": {
            "tags": []
          },
          "execution_count": 117
        }
      ]
    },
    {
      "cell_type": "code",
      "metadata": {
        "id": "SaRMn-g8N4G7",
        "colab_type": "code",
        "colab": {
          "base_uri": "https://localhost:8080/",
          "height": 195
        },
        "outputId": "b3a15377-8a4e-4440-998a-4ef8a1c15b80"
      },
      "source": [
        "iris_df.head()"
      ],
      "execution_count": 118,
      "outputs": [
        {
          "output_type": "execute_result",
          "data": {
            "text/html": [
              "<div>\n",
              "<style scoped>\n",
              "    .dataframe tbody tr th:only-of-type {\n",
              "        vertical-align: middle;\n",
              "    }\n",
              "\n",
              "    .dataframe tbody tr th {\n",
              "        vertical-align: top;\n",
              "    }\n",
              "\n",
              "    .dataframe thead th {\n",
              "        text-align: right;\n",
              "    }\n",
              "</style>\n",
              "<table border=\"1\" class=\"dataframe\">\n",
              "  <thead>\n",
              "    <tr style=\"text-align: right;\">\n",
              "      <th></th>\n",
              "      <th>sepal_length</th>\n",
              "      <th>sepal_width</th>\n",
              "      <th>petal_length</th>\n",
              "      <th>petal_width</th>\n",
              "      <th>class</th>\n",
              "    </tr>\n",
              "  </thead>\n",
              "  <tbody>\n",
              "    <tr>\n",
              "      <th>0</th>\n",
              "      <td>5.1</td>\n",
              "      <td>3.5</td>\n",
              "      <td>1.4</td>\n",
              "      <td>0.2</td>\n",
              "      <td>Iris-setosa</td>\n",
              "    </tr>\n",
              "    <tr>\n",
              "      <th>1</th>\n",
              "      <td>4.9</td>\n",
              "      <td>3.0</td>\n",
              "      <td>1.4</td>\n",
              "      <td>0.2</td>\n",
              "      <td>Iris-setosa</td>\n",
              "    </tr>\n",
              "    <tr>\n",
              "      <th>2</th>\n",
              "      <td>4.7</td>\n",
              "      <td>3.2</td>\n",
              "      <td>1.3</td>\n",
              "      <td>0.2</td>\n",
              "      <td>Iris-setosa</td>\n",
              "    </tr>\n",
              "    <tr>\n",
              "      <th>3</th>\n",
              "      <td>4.6</td>\n",
              "      <td>3.1</td>\n",
              "      <td>1.5</td>\n",
              "      <td>0.2</td>\n",
              "      <td>Iris-setosa</td>\n",
              "    </tr>\n",
              "    <tr>\n",
              "      <th>4</th>\n",
              "      <td>5.0</td>\n",
              "      <td>3.6</td>\n",
              "      <td>1.4</td>\n",
              "      <td>0.2</td>\n",
              "      <td>Iris-setosa</td>\n",
              "    </tr>\n",
              "  </tbody>\n",
              "</table>\n",
              "</div>"
            ],
            "text/plain": [
              "   sepal_length  sepal_width  petal_length  petal_width        class\n",
              "0           5.1          3.5           1.4          0.2  Iris-setosa\n",
              "1           4.9          3.0           1.4          0.2  Iris-setosa\n",
              "2           4.7          3.2           1.3          0.2  Iris-setosa\n",
              "3           4.6          3.1           1.5          0.2  Iris-setosa\n",
              "4           5.0          3.6           1.4          0.2  Iris-setosa"
            ]
          },
          "metadata": {
            "tags": []
          },
          "execution_count": 118
        }
      ]
    },
    {
      "cell_type": "code",
      "metadata": {
        "id": "rDMhmtIAdZGH",
        "colab_type": "code",
        "colab": {
          "base_uri": "https://localhost:8080/",
          "height": 218
        },
        "outputId": "30d32086-d459-4d4f-f697-f93f93327d14"
      },
      "source": [
        "# quick info about data\n",
        "iris_df.info()"
      ],
      "execution_count": 119,
      "outputs": [
        {
          "output_type": "stream",
          "text": [
            "<class 'pandas.core.frame.DataFrame'>\n",
            "RangeIndex: 150 entries, 0 to 149\n",
            "Data columns (total 5 columns):\n",
            " #   Column        Non-Null Count  Dtype  \n",
            "---  ------        --------------  -----  \n",
            " 0   sepal_length  150 non-null    float64\n",
            " 1   sepal_width   150 non-null    float64\n",
            " 2   petal_length  150 non-null    float64\n",
            " 3   petal_width   150 non-null    float64\n",
            " 4   class         150 non-null    object \n",
            "dtypes: float64(4), object(1)\n",
            "memory usage: 6.0+ KB\n"
          ],
          "name": "stdout"
        }
      ]
    },
    {
      "cell_type": "code",
      "metadata": {
        "id": "WReSs3uMehoT",
        "colab_type": "code",
        "colab": {
          "base_uri": "https://localhost:8080/",
          "height": 284
        },
        "outputId": "641ed86b-fb6a-455c-e73a-949557817883"
      },
      "source": [
        " # statistical summary for each attribute\n",
        " iris_df.describe()"
      ],
      "execution_count": 120,
      "outputs": [
        {
          "output_type": "execute_result",
          "data": {
            "text/html": [
              "<div>\n",
              "<style scoped>\n",
              "    .dataframe tbody tr th:only-of-type {\n",
              "        vertical-align: middle;\n",
              "    }\n",
              "\n",
              "    .dataframe tbody tr th {\n",
              "        vertical-align: top;\n",
              "    }\n",
              "\n",
              "    .dataframe thead th {\n",
              "        text-align: right;\n",
              "    }\n",
              "</style>\n",
              "<table border=\"1\" class=\"dataframe\">\n",
              "  <thead>\n",
              "    <tr style=\"text-align: right;\">\n",
              "      <th></th>\n",
              "      <th>sepal_length</th>\n",
              "      <th>sepal_width</th>\n",
              "      <th>petal_length</th>\n",
              "      <th>petal_width</th>\n",
              "    </tr>\n",
              "  </thead>\n",
              "  <tbody>\n",
              "    <tr>\n",
              "      <th>count</th>\n",
              "      <td>150.000000</td>\n",
              "      <td>150.000000</td>\n",
              "      <td>150.000000</td>\n",
              "      <td>150.000000</td>\n",
              "    </tr>\n",
              "    <tr>\n",
              "      <th>mean</th>\n",
              "      <td>5.843333</td>\n",
              "      <td>3.054000</td>\n",
              "      <td>3.758667</td>\n",
              "      <td>1.198667</td>\n",
              "    </tr>\n",
              "    <tr>\n",
              "      <th>std</th>\n",
              "      <td>0.828066</td>\n",
              "      <td>0.433594</td>\n",
              "      <td>1.764420</td>\n",
              "      <td>0.763161</td>\n",
              "    </tr>\n",
              "    <tr>\n",
              "      <th>min</th>\n",
              "      <td>4.300000</td>\n",
              "      <td>2.000000</td>\n",
              "      <td>1.000000</td>\n",
              "      <td>0.100000</td>\n",
              "    </tr>\n",
              "    <tr>\n",
              "      <th>25%</th>\n",
              "      <td>5.100000</td>\n",
              "      <td>2.800000</td>\n",
              "      <td>1.600000</td>\n",
              "      <td>0.300000</td>\n",
              "    </tr>\n",
              "    <tr>\n",
              "      <th>50%</th>\n",
              "      <td>5.800000</td>\n",
              "      <td>3.000000</td>\n",
              "      <td>4.350000</td>\n",
              "      <td>1.300000</td>\n",
              "    </tr>\n",
              "    <tr>\n",
              "      <th>75%</th>\n",
              "      <td>6.400000</td>\n",
              "      <td>3.300000</td>\n",
              "      <td>5.100000</td>\n",
              "      <td>1.800000</td>\n",
              "    </tr>\n",
              "    <tr>\n",
              "      <th>max</th>\n",
              "      <td>7.900000</td>\n",
              "      <td>4.400000</td>\n",
              "      <td>6.900000</td>\n",
              "      <td>2.500000</td>\n",
              "    </tr>\n",
              "  </tbody>\n",
              "</table>\n",
              "</div>"
            ],
            "text/plain": [
              "       sepal_length  sepal_width  petal_length  petal_width\n",
              "count    150.000000   150.000000    150.000000   150.000000\n",
              "mean       5.843333     3.054000      3.758667     1.198667\n",
              "std        0.828066     0.433594      1.764420     0.763161\n",
              "min        4.300000     2.000000      1.000000     0.100000\n",
              "25%        5.100000     2.800000      1.600000     0.300000\n",
              "50%        5.800000     3.000000      4.350000     1.300000\n",
              "75%        6.400000     3.300000      5.100000     1.800000\n",
              "max        7.900000     4.400000      6.900000     2.500000"
            ]
          },
          "metadata": {
            "tags": []
          },
          "execution_count": 120
        }
      ]
    },
    {
      "cell_type": "code",
      "metadata": {
        "id": "lPRoiVnKnzux",
        "colab_type": "code",
        "colab": {
          "base_uri": "https://localhost:8080/",
          "height": 101
        },
        "outputId": "4d799154-a7c1-4c67-ecc0-877dd26010c2"
      },
      "source": [
        "# group by target and check the distribution of outcomes\n",
        "iris_df.groupby('class').size()"
      ],
      "execution_count": 121,
      "outputs": [
        {
          "output_type": "execute_result",
          "data": {
            "text/plain": [
              "class\n",
              "Iris-setosa        50\n",
              "Iris-versicolor    50\n",
              "Iris-virginica     50\n",
              "dtype: int64"
            ]
          },
          "metadata": {
            "tags": []
          },
          "execution_count": 121
        }
      ]
    },
    {
      "cell_type": "markdown",
      "metadata": {
        "id": "W1U6qzTio8jU",
        "colab_type": "text"
      },
      "source": [
        "# 4. EDA ( Data Visualization )\n",
        "> We are going to look at two types of plots:\n",
        "\n",
        "- **Univariate plots** to better understand each attribute.\n",
        "- **Multivariate plots** to better understand the relationships between attributes.\n",
        "\n"
      ]
    },
    {
      "cell_type": "markdown",
      "metadata": {
        "id": "WYms5HqA12XF",
        "colab_type": "text"
      },
      "source": [
        "## Univariate plots"
      ]
    },
    {
      "cell_type": "code",
      "metadata": {
        "id": "S56KSO91pMae",
        "colab_type": "code",
        "colab": {
          "base_uri": "https://localhost:8080/",
          "height": 378
        },
        "outputId": "06a5c9f4-48ec-4fb3-e8fc-7c42a4e1d36e"
      },
      "source": [
        "# univariate plots using box plot since we have numeric features\n",
        "iris_df.plot(kind='box',\n",
        "             subplots=True, \n",
        "             sharex=False, sharey=False, \n",
        "             layout=(2,2),\n",
        "             figsize=(8,6))\n",
        "\n",
        "plt.show()"
      ],
      "execution_count": 36,
      "outputs": [
        {
          "output_type": "display_data",
          "data": {
            "image/png": "[encoded data removed]",
            "text/plain": [
              "<Figure size 576x432 with 4 Axes>"
            ]
          },
          "metadata": {
            "tags": []
          }
        }
      ]
    },
    {
      "cell_type": "code",
      "metadata": {
        "id": "XXybcNGhs_qs",
        "colab_type": "code",
        "colab": {
          "base_uri": "https://localhost:8080/",
          "height": 374
        },
        "outputId": "51168f19-4cc1-436e-f2f7-022beff0a936"
      },
      "source": [
        "# histogram \n",
        "iris_df.plot(kind='kde',\n",
        "             subplots=True,\n",
        "             sharex=False, sharey=False,\n",
        "             layout=(2,2),\n",
        "             figsize=(8,6))\n",
        "\n",
        "plt.show()"
      ],
      "execution_count": 41,
      "outputs": [
        {
          "output_type": "display_data",
          "data": {
            "image/png": "[encoded data removed]",
            "text/plain": [
              "<Figure size 576x432 with 4 Axes>"
            ]
          },
          "metadata": {
            "tags": []
          }
        }
      ]
    },
    {
      "cell_type": "markdown",
      "metadata": {
        "id": "Flk-ocmByYNy",
        "colab_type": "text"
      },
      "source": [
        "sepal width and sepal length have a gaussian dist. this may come in handy late when modeling."
      ]
    },
    {
      "cell_type": "markdown",
      "metadata": {
        "id": "wPWQJZdo1xuq",
        "colab_type": "text"
      },
      "source": [
        "## Multivariate Plots\n",
        "Now we can look at the interactions between the variables AKA **correlation**"
      ]
    },
    {
      "cell_type": "code",
      "metadata": {
        "id": "Wg0mHCSu3CsJ",
        "colab_type": "code",
        "colab": {
          "base_uri": "https://localhost:8080/",
          "height": 166
        },
        "outputId": "dbf35c65-1426-4b9a-9627-9460bb631350"
      },
      "source": [
        "corr_matrix = iris_df.corr()\n",
        "corr_matrix"
      ],
      "execution_count": 50,
      "outputs": [
        {
          "output_type": "execute_result",
          "data": {
            "text/html": [
              "<div>\n",
              "<style scoped>\n",
              "    .dataframe tbody tr th:only-of-type {\n",
              "        vertical-align: middle;\n",
              "    }\n",
              "\n",
              "    .dataframe tbody tr th {\n",
              "        vertical-align: top;\n",
              "    }\n",
              "\n",
              "    .dataframe thead th {\n",
              "        text-align: right;\n",
              "    }\n",
              "</style>\n",
              "<table border=\"1\" class=\"dataframe\">\n",
              "  <thead>\n",
              "    <tr style=\"text-align: right;\">\n",
              "      <th></th>\n",
              "      <th>sepal_length</th>\n",
              "      <th>sepal_width</th>\n",
              "      <th>petal_length</th>\n",
              "      <th>petal_width</th>\n",
              "    </tr>\n",
              "  </thead>\n",
              "  <tbody>\n",
              "    <tr>\n",
              "      <th>sepal_length</th>\n",
              "      <td>1.000000</td>\n",
              "      <td>-0.109369</td>\n",
              "      <td>0.871754</td>\n",
              "      <td>0.817954</td>\n",
              "    </tr>\n",
              "    <tr>\n",
              "      <th>sepal_width</th>\n",
              "      <td>-0.109369</td>\n",
              "      <td>1.000000</td>\n",
              "      <td>-0.420516</td>\n",
              "      <td>-0.356544</td>\n",
              "    </tr>\n",
              "    <tr>\n",
              "      <th>petal_length</th>\n",
              "      <td>0.871754</td>\n",
              "      <td>-0.420516</td>\n",
              "      <td>1.000000</td>\n",
              "      <td>0.962757</td>\n",
              "    </tr>\n",
              "    <tr>\n",
              "      <th>petal_width</th>\n",
              "      <td>0.817954</td>\n",
              "      <td>-0.356544</td>\n",
              "      <td>0.962757</td>\n",
              "      <td>1.000000</td>\n",
              "    </tr>\n",
              "  </tbody>\n",
              "</table>\n",
              "</div>"
            ],
            "text/plain": [
              "              sepal_length  sepal_width  petal_length  petal_width\n",
              "sepal_length      1.000000    -0.109369      0.871754     0.817954\n",
              "sepal_width      -0.109369     1.000000     -0.420516    -0.356544\n",
              "petal_length      0.871754    -0.420516      1.000000     0.962757\n",
              "petal_width       0.817954    -0.356544      0.962757     1.000000"
            ]
          },
          "metadata": {
            "tags": []
          },
          "execution_count": 50
        }
      ]
    },
    {
      "cell_type": "code",
      "metadata": {
        "id": "4MUCmMHX1sQI",
        "colab_type": "code",
        "colab": {
          "base_uri": "https://localhost:8080/",
          "height": 493
        },
        "outputId": "ac8855d5-6062-4531-be8f-73e452a1a08f"
      },
      "source": [
        "scatter_matrix(iris_df, figsize=(10,8) )\n",
        "plt.show()"
      ],
      "execution_count": 46,
      "outputs": [
        {
          "output_type": "display_data",
          "data": {
            "image/png": "[encoded data removed]",
            "text/plain": [
              "<Figure size 720x576 with 16 Axes>"
            ]
          },
          "metadata": {
            "tags": []
          }
        }
      ]
    },
    {
      "cell_type": "markdown",
      "metadata": {
        "id": "jtWlssa_4rDf",
        "colab_type": "text"
      },
      "source": [
        "report:\n",
        "> petal_width is highly correlated with petal_length with corr = 0.962757"
      ]
    },
    {
      "cell_type": "markdown",
      "metadata": {
        "id": "bSDrNRn15Kuu",
        "colab_type": "text"
      },
      "source": [
        "# 5. Evaluate  Algorithms\n",
        "\n",
        "> Here is what we are going to cover in this step:\n",
        "\n",
        "- Separate out a validation dataset.\n",
        "- Set-up the test harness to use 10-fold cross validation.\n",
        "- Build multiple different models to predict species from flower measurements\n",
        "- Select the best model."
      ]
    },
    {
      "cell_type": "markdown",
      "metadata": {
        "id": "Vi-NfHuGRsJi",
        "colab_type": "text"
      },
      "source": [
        "**NOTE:** **petal_width** is founded to be **highly correlated** with **petal_length**, so we **drop one**, in our case is **petal_width**\n",
        "\n",
        "```python3\n",
        " X = iris_df.drop(['class','petal_width'], axis=1)\n",
        "```"
      ]
    },
    {
      "cell_type": "code",
      "metadata": {
        "id": "slKqxsFi5Nei",
        "colab_type": "code",
        "colab": {
          "base_uri": "https://localhost:8080/",
          "height": 34
        },
        "outputId": "5953d3ed-6bb5-4dce-f379-e57b5723aab6"
      },
      "source": [
        "# separate the label from the features\n",
        "X = iris_df.drop(['class'], axis=1)\n",
        "y= iris_df['class']\n",
        "\n",
        "# split dataset into train and test subsets\n",
        "X_train, X_test, y_train, y_test = train_test_split(X, y, test_size=0.2, random_state=1)\n",
        "\n",
        "# show size of new subsets\n",
        "X_train.shape, X_test.shape"
      ],
      "execution_count": 162,
      "outputs": [
        {
          "output_type": "execute_result",
          "data": {
            "text/plain": [
              "((120, 4), (30, 4))"
            ]
          },
          "metadata": {
            "tags": []
          },
          "execution_count": 162
        }
      ]
    },
    {
      "cell_type": "markdown",
      "metadata": {
        "id": "3vh1wini7WJN",
        "colab_type": "text"
      },
      "source": [
        "## Test Harness\n",
        "**We will use stratified 10-fold cross validation to estimate model accuracy.**\n",
        "\n",
        "> This will split our dataset into 10 parts, train on 9 and test on 1 and repeat for all combinations of train-test splits.\n",
        "\n",
        "> Stratified means that each fold or split of the dataset will aim to have the same distribution of example by class as exist in the whole training dataset.\n",
        "\n",
        "**We are using the metric of ‘accuracy‘ to evaluate models.**\n",
        "\n",
        "> This is a ratio of the number of correctly predicted instances divided by the total number of instances in the dataset multiplied by 100 to give a percentage (e.g. 95% accurate). \n",
        "```python\n",
        "( (correctly predicted instances) / (total number of instances in the dataset) )* 100 = accuracy %\n",
        "```\n",
        "> We will be using the scoring variable when we run build and evaluate each model next."
      ]
    },
    {
      "cell_type": "markdown",
      "metadata": {
        "id": "Nh7Ltolk9HVE",
        "colab_type": "text"
      },
      "source": [
        "## Build Models\n",
        "\n",
        "We don’t know which algorithms would be good on this problem or what configurations to use.\n",
        "\n",
        "We get an idea from the plots that some of the classes are partially linearly separable in some dimensions, so we are expecting generally good results.\n",
        "\n",
        "**Let’s test 6 different algorithms:**\n",
        "\n",
        "- Logistic Regression (LR)\n",
        "- Linear Discriminant Analysis (LDA)\n",
        "- K-Nearest Neighbors (KNN).\n",
        "- Classification and Regression Trees (CART).\n",
        "- Gaussian Naive Bayes (NB).\n",
        "- Support Vector Machines (SVM).\n",
        "\n",
        "This is a good mixture of simple linear (LR and LDA), nonlinear (KNN, CART, NB and SVM) algorithms."
      ]
    },
    {
      "cell_type": "code",
      "metadata": {
        "id": "YOUobRMk6sC5",
        "colab_type": "code",
        "colab": {}
      },
      "source": [
        "# defining models to a list for easy evaluation\n",
        "models = list()\n",
        "\n",
        "models.append(('LR', \n",
        "               LogisticRegression(solver='liblinear', multi_class='ovr'))\n",
        "              )\n",
        "\n",
        "models.append(('LDA',\n",
        "               LinearDiscriminantAnalysis()))\n",
        "\n",
        "models.append(('KNN',\n",
        "               KNeighborsClassifier()))\n",
        "\n",
        "models.append(('CART',\n",
        "               DecisionTreeClassifier()))\n",
        "\n",
        "models.append(('NB',\n",
        "               GaussianNB()))\n",
        "\n",
        "models.append(('SVM',\n",
        "               SVC(gamma='auto')))\n"
      ],
      "execution_count": 0,
      "outputs": []
    },
    {
      "cell_type": "code",
      "metadata": {
        "id": "uhETSLlB_8RV",
        "colab_type": "code",
        "colab": {
          "base_uri": "https://localhost:8080/",
          "height": 420
        },
        "outputId": "a52bb735-df84-4233-c40f-bfe0ffb92e4a"
      },
      "source": [
        "# evaluate the models\n",
        "results = list()\n",
        "names = list()\n",
        "\n",
        "for name, model in models:\n",
        "    kfold = StratifiedKFold(n_splits=10, random_state=1, shuffle=True)\n",
        "    cv_results = cross_val_score(model, X_train, y_train, cv=kfold, scoring='accuracy', n_jobs=-1)\n",
        "    results.append(cv_results)\n",
        "    names.append(name)\n",
        "\n",
        "    print(f'{name}:\\nmean accuracy: {cv_results.mean()} \\nstd accuracy: {cv_results.std()}\\n-------------------')"
      ],
      "execution_count": 164,
      "outputs": [
        {
          "output_type": "stream",
          "text": [
            "LR:\n",
            "mean accuracy: 0.9416666666666667 \n",
            "std accuracy: 0.06508541396588878\n",
            "-------------------\n",
            "LDA:\n",
            "mean accuracy: 0.975 \n",
            "std accuracy: 0.03818813079129868\n",
            "-------------------\n",
            "KNN:\n",
            "mean accuracy: 0.9583333333333333 \n",
            "std accuracy: 0.04166666666666669\n",
            "-------------------\n",
            "CART:\n",
            "mean accuracy: 0.9499999999999998 \n",
            "std accuracy: 0.04082482904638632\n",
            "-------------------\n",
            "NB:\n",
            "mean accuracy: 0.95 \n",
            "std accuracy: 0.05527707983925667\n",
            "-------------------\n",
            "SVM:\n",
            "mean accuracy: 0.9833333333333332 \n",
            "std accuracy: 0.03333333333333335\n",
            "-------------------\n"
          ],
          "name": "stdout"
        }
      ]
    },
    {
      "cell_type": "markdown",
      "metadata": {
        "id": "tj1QsMB_DatR",
        "colab_type": "text"
      },
      "source": [
        "# Select model"
      ]
    },
    {
      "cell_type": "code",
      "metadata": {
        "id": "3AUrIxvPDpk1",
        "colab_type": "code",
        "colab": {
          "base_uri": "https://localhost:8080/",
          "height": 390
        },
        "outputId": "8d8dfafc-5a3c-46d4-ad0c-4ce850b91df0"
      },
      "source": [
        "# ploting models accuracy results using boxplot\n",
        "plt.figure(figsize= (8,6))\n",
        "plt.boxplot(x=results,  labels=names)\n",
        "plt.title('models Accuracy Results')\n",
        "plt.show()"
      ],
      "execution_count": 165,
      "outputs": [
        {
          "output_type": "display_data",
          "data": {
            "image/png": "[encoded data removed]",
            "text/plain": [
              "<Figure size 576x432 with 1 Axes>"
            ]
          },
          "metadata": {
            "tags": []
          }
        }
      ]
    },
    {
      "cell_type": "markdown",
      "metadata": {
        "id": "fayta9AeE9if",
        "colab_type": "text"
      },
      "source": [
        "SVC and LDA have 98% accuracy.\n"
      ]
    },
    {
      "cell_type": "markdown",
      "metadata": {
        "id": "GHDCAGJ1FNF1",
        "colab_type": "text"
      },
      "source": [
        "# 6 Final Model (Make Predictions)\n",
        "> SVC with 98% mean accuracy"
      ]
    },
    {
      "cell_type": "code",
      "metadata": {
        "id": "RIowqTWnFl3T",
        "colab_type": "code",
        "colab": {}
      },
      "source": [
        "# define the SVC instance \n",
        "final_model = SVC(gamma='auto')\n",
        "\n",
        "# fit the model with the full train data\n",
        "final_model.fit(X_train, y_train)\n",
        "\n",
        "# predict using the test data\n",
        "y_pred = final_model.predict(X_test)"
      ],
      "execution_count": 0,
      "outputs": []
    },
    {
      "cell_type": "markdown",
      "metadata": {
        "id": "ZED5LAzfHiAe",
        "colab_type": "text"
      },
      "source": [
        "## Evaluate Predictions\n",
        "\n",
        "We can evaluate the predictions by comparing them to the expected results in the validation set, then calculate classification accuracy, as well as a confusion matrix and a classification report."
      ]
    },
    {
      "cell_type": "code",
      "metadata": {
        "id": "vMm9xQLiJIlo",
        "colab_type": "code",
        "colab": {
          "base_uri": "https://localhost:8080/",
          "height": 319
        },
        "outputId": "0de57f0b-5d7f-4b8a-cf42-6fc666a3c1b8"
      },
      "source": [
        "# print the accuracy score\n",
        "print('Accuracy score:', accuracy_score(y_test, y_pred)*100)\n",
        "\n",
        "# print the confusion matrix\n",
        "print('--------------------------\\nconfusion matrix:\\n', confusion_matrix(y_test, y_pred))\n",
        "\n",
        "# print the classification Report\n",
        "print('--------------------------\\nClassification Report:\\n', classification_report(y_test, y_pred))"
      ],
      "execution_count": 167,
      "outputs": [
        {
          "output_type": "stream",
          "text": [
            "Accuracy score: 96.66666666666667\n",
            "--------------------------\n",
            "confusion matrix:\n",
            " [[11  0  0]\n",
            " [ 0 12  1]\n",
            " [ 0  0  6]]\n",
            "--------------------------\n",
            "Classification Report:\n",
            "                  precision    recall  f1-score   support\n",
            "\n",
            "    Iris-setosa       1.00      1.00      1.00        11\n",
            "Iris-versicolor       1.00      0.92      0.96        13\n",
            " Iris-virginica       0.86      1.00      0.92         6\n",
            "\n",
            "       accuracy                           0.97        30\n",
            "      macro avg       0.95      0.97      0.96        30\n",
            "   weighted avg       0.97      0.97      0.97        30\n",
            "\n"
          ],
          "name": "stdout"
        }
      ]
    },
    {
      "cell_type": "markdown",
      "metadata": {
        "id": "LysV7prLUE_8",
        "colab_type": "text"
      },
      "source": [
        "Train Score: 98.3%\n",
        "Test Score : 96.3%\n",
        "\n",
        "> **Overfiting** \n",
        "- The model is a bit overfiting, meaning it **fits well** the **training data** but failed to **generalize** on **new data**.\n",
        "\n",
        "\n",
        "> **why**?\n",
        "- The model learnt not only the right patterns but also some noise.\n",
        "\n",
        "> **What do you mean**?\n",
        "- In our case we had two features that were highly correlated (petal_width and petal_length with corr = 96%) AKA **multicolinearity**\n",
        "\n",
        "> **Let's Slove this problem**!\n",
        "- Drop either **petal_width** or **petal_length**.\n",
        "\n",
        "> **why**?\n",
        "- since they are doing the same taske and having then both causes noise."
      ]
    },
    {
      "cell_type": "code",
      "metadata": {
        "id": "SwUiQYOpX7ny",
        "colab_type": "code",
        "colab": {
          "base_uri": "https://localhost:8080/",
          "height": 136
        },
        "outputId": "e5e5979d-9fef-415d-8af2-6f42e383bd87"
      },
      "source": [
        "# drop petal_wigth\n",
        "X_train_reduced = X_train.drop('petal_width', axis=1)\n",
        "X_test_reduced = X_test.drop('petal_width', axis=1)\n",
        "\n",
        "# lets check the data\n",
        "X_train_reduced.head(3)"
      ],
      "execution_count": 169,
      "outputs": [
        {
          "output_type": "execute_result",
          "data": {
            "text/html": [
              "<div>\n",
              "<style scoped>\n",
              "    .dataframe tbody tr th:only-of-type {\n",
              "        vertical-align: middle;\n",
              "    }\n",
              "\n",
              "    .dataframe tbody tr th {\n",
              "        vertical-align: top;\n",
              "    }\n",
              "\n",
              "    .dataframe thead th {\n",
              "        text-align: right;\n",
              "    }\n",
              "</style>\n",
              "<table border=\"1\" class=\"dataframe\">\n",
              "  <thead>\n",
              "    <tr style=\"text-align: right;\">\n",
              "      <th></th>\n",
              "      <th>sepal_length</th>\n",
              "      <th>sepal_width</th>\n",
              "      <th>petal_length</th>\n",
              "    </tr>\n",
              "  </thead>\n",
              "  <tbody>\n",
              "    <tr>\n",
              "      <th>91</th>\n",
              "      <td>6.1</td>\n",
              "      <td>3.0</td>\n",
              "      <td>4.6</td>\n",
              "    </tr>\n",
              "    <tr>\n",
              "      <th>135</th>\n",
              "      <td>7.7</td>\n",
              "      <td>3.0</td>\n",
              "      <td>6.1</td>\n",
              "    </tr>\n",
              "    <tr>\n",
              "      <th>69</th>\n",
              "      <td>5.6</td>\n",
              "      <td>2.5</td>\n",
              "      <td>3.9</td>\n",
              "    </tr>\n",
              "  </tbody>\n",
              "</table>\n",
              "</div>"
            ],
            "text/plain": [
              "     sepal_length  sepal_width  petal_length\n",
              "91            6.1          3.0           4.6\n",
              "135           7.7          3.0           6.1\n",
              "69            5.6          2.5           3.9"
            ]
          },
          "metadata": {
            "tags": []
          },
          "execution_count": 169
        }
      ]
    },
    {
      "cell_type": "markdown",
      "metadata": {
        "id": "GJEZroI8Yhy9",
        "colab_type": "text"
      },
      "source": [
        "we wont retrain all the models. but its best practice!\n",
        "I've previously done that and i just want to minimize the code.\n",
        "\n",
        "**lets shoot to our final model**"
      ]
    },
    {
      "cell_type": "code",
      "metadata": {
        "id": "AS3zXi6HT2JX",
        "colab_type": "code",
        "colab": {}
      },
      "source": [
        "\n",
        "# define the SVC instance \n",
        "final_model = SVC(gamma='auto')\n",
        "\n",
        "# fit the model with the full train data\n",
        "final_model.fit(X_train_reduced, y_train)\n",
        "\n",
        "# predict using the test data\n",
        "y_pred = final_model.predict(X_test_reduced)"
      ],
      "execution_count": 0,
      "outputs": []
    },
    {
      "cell_type": "code",
      "metadata": {
        "id": "O6sgpS-iYeKH",
        "colab_type": "code",
        "colab": {
          "base_uri": "https://localhost:8080/",
          "height": 319
        },
        "outputId": "2d447b06-0b21-470b-b466-4ba94a6216a9"
      },
      "source": [
        "# print the accuracy score\n",
        "print('Accuracy score:', accuracy_score(y_test, y_pred)*100)\n",
        "\n",
        "# print the confusion matrix\n",
        "print('--------------------------\\nconfusion matrix:\\n', confusion_matrix(y_test, y_pred))\n",
        "\n",
        "# print the classification Report\n",
        "print('--------------------------\\nClassification Report:\\n', classification_report(y_test, y_pred))"
      ],
      "execution_count": 171,
      "outputs": [
        {
          "output_type": "stream",
          "text": [
            "Accuracy score: 100.0\n",
            "--------------------------\n",
            "confusion matrix:\n",
            " [[11  0  0]\n",
            " [ 0 13  0]\n",
            " [ 0  0  6]]\n",
            "--------------------------\n",
            "Classification Report:\n",
            "                  precision    recall  f1-score   support\n",
            "\n",
            "    Iris-setosa       1.00      1.00      1.00        11\n",
            "Iris-versicolor       1.00      1.00      1.00        13\n",
            " Iris-virginica       1.00      1.00      1.00         6\n",
            "\n",
            "       accuracy                           1.00        30\n",
            "      macro avg       1.00      1.00      1.00        30\n",
            "   weighted avg       1.00      1.00      1.00        30\n",
            "\n"
          ],
          "name": "stdout"
        }
      ]
    },
    {
      "cell_type": "markdown",
      "metadata": {
        "id": "9PmZIXT8MmzM",
        "colab_type": "text"
      },
      "source": [
        "# Your Next Step\n",
        "\n",
        "\n",
        "- Work through the above tutorial with understanding.\n",
        "- Read more about each step, this will help you gain interest and fill-in the ?????? marks\n",
        "- Search for new projects. \n",
        "- find Datasets @[uci](https://archive.ics.uci.edu/ml/index.php)"
      ]
    }
  ]
}