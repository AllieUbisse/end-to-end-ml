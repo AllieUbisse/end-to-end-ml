{
  "nbformat": 4,
  "nbformat_minor": 0,
  "metadata": {
    "colab": {
      "name": "1_EDA_&_Pre-processing.ipynb",
      "provenance": [],
      "collapsed_sections": [
        "bKMo-f_XwtX_",
        "HW2rp1FnJFyf",
        "6Ego_gKHvLtq"
      ],
      "authorship_tag": "ABX9TyM3Vooo1QeRVQ4la18/rH3R",
      "include_colab_link": true
    },
    "kernelspec": {
      "name": "python3",
      "display_name": "Python 3"
    }
  },
  "cells": [
    {
      "cell_type": "markdown",
      "metadata": {
        "id": "view-in-github",
        "colab_type": "text"
      },
      "source": [
        "<a href=\"https://colab.research.google.com/github/AllieUbisse/end-to-end-ml/blob/master/notebooks/1_EDA_%26_Pre_processing.ipynb\" target=\"_parent\"><img src=\"https://colab.research.google.com/assets/colab-badge.svg\" alt=\"Open In Colab\"/></a>"
      ]
    },
    {
      "cell_type": "markdown",
      "metadata": {
        "id": "bKMo-f_XwtX_",
        "colab_type": "text"
      },
      "source": [
        "# imports and data loading"
      ]
    },
    {
      "cell_type": "code",
      "metadata": {
        "id": "oyMN55VUq9AZ",
        "colab_type": "code",
        "colab": {}
      },
      "source": [
        "import pandas as pd\n",
        "import numpy as np\n",
        "\n",
        "# visualization\n",
        "import matplotlib.pyplot as plt\n",
        "%matplotlib inline\n",
        "import seaborn as sns\n",
        "\n",
        "#  preprocessing and evaluation\n",
        "from sklearn.preprocessing import MinMaxScaler\n",
        "from sklearn.preprocessing import StandardScaler\n",
        "from sklearn.preprocessing import  Normalizer\n",
        "from sklearn.preprocessing import  Binarizer\n",
        "\n",
        "\n",
        "\n",
        "# model\n",
        "\n"
      ],
      "execution_count": 0,
      "outputs": []
    },
    {
      "cell_type": "code",
      "metadata": {
        "id": "kEQnd3uzsILV",
        "colab_type": "code",
        "colab": {}
      },
      "source": [
        "url_train = '/content/sample_data/california_housing_train.csv'\n",
        "train = pd.read_csv(url_train)\n",
        "\n",
        "# set display format\n",
        "pd.set_option('display.width', 100)\n",
        "pd.set_option('precision', 3)\n",
        "\n"
      ],
      "execution_count": 0,
      "outputs": []
    },
    {
      "cell_type": "markdown",
      "metadata": {
        "id": "HW2rp1FnJFyf",
        "colab_type": "text"
      },
      "source": [
        "# EDA (Task 2)"
      ]
    },
    {
      "cell_type": "markdown",
      "metadata": {
        "id": "6Ego_gKHvLtq",
        "colab_type": "text"
      },
      "source": [
        "## Understand Your Data With Descriptive Statistics\n",
        "\n",
        "1. Take a peek at your raw data.\n",
        "2.Review the dimensions of your dataset.\n",
        "3. Review the data types of attributes in your data.\n",
        "4. Summarize the distribution of instances across classes in your dataset.\n",
        "5. Summarize your data using descriptive statistics.\n",
        "6. Understand the relationships in your data using correlations.\n",
        "7. Review the skew of the distributions of each attribute.\n"
      ]
    },
    {
      "cell_type": "code",
      "metadata": {
        "id": "XEDm0cDvu90J",
        "colab_type": "code",
        "colab": {
          "base_uri": "https://localhost:8080/",
          "height": 195
        },
        "outputId": "da30dc34-b1e3-4170-dca2-3b2bde44a54a"
      },
      "source": [
        "# peak of data\n",
        "train.head()"
      ],
      "execution_count": 48,
      "outputs": [
        {
          "output_type": "execute_result",
          "data": {
            "text/html": [
              "<div>\n",
              "<style scoped>\n",
              "    .dataframe tbody tr th:only-of-type {\n",
              "        vertical-align: middle;\n",
              "    }\n",
              "\n",
              "    .dataframe tbody tr th {\n",
              "        vertical-align: top;\n",
              "    }\n",
              "\n",
              "    .dataframe thead th {\n",
              "        text-align: right;\n",
              "    }\n",
              "</style>\n",
              "<table border=\"1\" class=\"dataframe\">\n",
              "  <thead>\n",
              "    <tr style=\"text-align: right;\">\n",
              "      <th></th>\n",
              "      <th>longitude</th>\n",
              "      <th>latitude</th>\n",
              "      <th>housing_median_age</th>\n",
              "      <th>total_rooms</th>\n",
              "      <th>total_bedrooms</th>\n",
              "      <th>population</th>\n",
              "      <th>households</th>\n",
              "      <th>median_income</th>\n",
              "      <th>median_house_value</th>\n",
              "    </tr>\n",
              "  </thead>\n",
              "  <tbody>\n",
              "    <tr>\n",
              "      <th>0</th>\n",
              "      <td>-114.31</td>\n",
              "      <td>34.19</td>\n",
              "      <td>15.0</td>\n",
              "      <td>5612.0</td>\n",
              "      <td>1283.0</td>\n",
              "      <td>1015.0</td>\n",
              "      <td>472.0</td>\n",
              "      <td>1.494</td>\n",
              "      <td>66900.0</td>\n",
              "    </tr>\n",
              "    <tr>\n",
              "      <th>1</th>\n",
              "      <td>-114.47</td>\n",
              "      <td>34.40</td>\n",
              "      <td>19.0</td>\n",
              "      <td>7650.0</td>\n",
              "      <td>1901.0</td>\n",
              "      <td>1129.0</td>\n",
              "      <td>463.0</td>\n",
              "      <td>1.820</td>\n",
              "      <td>80100.0</td>\n",
              "    </tr>\n",
              "    <tr>\n",
              "      <th>2</th>\n",
              "      <td>-114.56</td>\n",
              "      <td>33.69</td>\n",
              "      <td>17.0</td>\n",
              "      <td>720.0</td>\n",
              "      <td>174.0</td>\n",
              "      <td>333.0</td>\n",
              "      <td>117.0</td>\n",
              "      <td>1.651</td>\n",
              "      <td>85700.0</td>\n",
              "    </tr>\n",
              "    <tr>\n",
              "      <th>3</th>\n",
              "      <td>-114.57</td>\n",
              "      <td>33.64</td>\n",
              "      <td>14.0</td>\n",
              "      <td>1501.0</td>\n",
              "      <td>337.0</td>\n",
              "      <td>515.0</td>\n",
              "      <td>226.0</td>\n",
              "      <td>3.192</td>\n",
              "      <td>73400.0</td>\n",
              "    </tr>\n",
              "    <tr>\n",
              "      <th>4</th>\n",
              "      <td>-114.57</td>\n",
              "      <td>33.57</td>\n",
              "      <td>20.0</td>\n",
              "      <td>1454.0</td>\n",
              "      <td>326.0</td>\n",
              "      <td>624.0</td>\n",
              "      <td>262.0</td>\n",
              "      <td>1.925</td>\n",
              "      <td>65500.0</td>\n",
              "    </tr>\n",
              "  </tbody>\n",
              "</table>\n",
              "</div>"
            ],
            "text/plain": [
              "   longitude  latitude  ...  median_income  median_house_value\n",
              "0    -114.31     34.19  ...          1.494             66900.0\n",
              "1    -114.47     34.40  ...          1.820             80100.0\n",
              "2    -114.56     33.69  ...          1.651             85700.0\n",
              "3    -114.57     33.64  ...          3.192             73400.0\n",
              "4    -114.57     33.57  ...          1.925             65500.0\n",
              "\n",
              "[5 rows x 9 columns]"
            ]
          },
          "metadata": {
            "tags": []
          },
          "execution_count": 48
        }
      ]
    },
    {
      "cell_type": "code",
      "metadata": {
        "id": "pykWZROavifi",
        "colab_type": "code",
        "colab": {
          "base_uri": "https://localhost:8080/",
          "height": 34
        },
        "outputId": "35661758-a0d4-4bd2-fa62-eb19e1ec00ef"
      },
      "source": [
        "# dimension of data\n",
        "train.shape"
      ],
      "execution_count": 25,
      "outputs": [
        {
          "output_type": "execute_result",
          "data": {
            "text/plain": [
              "(17000, 9)"
            ]
          },
          "metadata": {
            "tags": []
          },
          "execution_count": 25
        }
      ]
    },
    {
      "cell_type": "code",
      "metadata": {
        "id": "wVSLKwiOvtOr",
        "colab_type": "code",
        "colab": {
          "base_uri": "https://localhost:8080/",
          "height": 286
        },
        "outputId": "bc7be846-529d-472d-be79-3723e46f45cd"
      },
      "source": [
        "# data types of attributes\n",
        "# train.dtypes\n",
        "train.info()"
      ],
      "execution_count": 58,
      "outputs": [
        {
          "output_type": "stream",
          "text": [
            "<class 'pandas.core.frame.DataFrame'>\n",
            "RangeIndex: 17000 entries, 0 to 16999\n",
            "Data columns (total 9 columns):\n",
            " #   Column              Non-Null Count  Dtype  \n",
            "---  ------              --------------  -----  \n",
            " 0   longitude           17000 non-null  float64\n",
            " 1   latitude            17000 non-null  float64\n",
            " 2   housing_median_age  17000 non-null  float64\n",
            " 3   total_rooms         17000 non-null  float64\n",
            " 4   total_bedrooms      17000 non-null  float64\n",
            " 5   population          17000 non-null  float64\n",
            " 6   households          17000 non-null  float64\n",
            " 7   median_income       17000 non-null  float64\n",
            " 8   median_house_value  17000 non-null  float64\n",
            "dtypes: float64(9)\n",
            "memory usage: 1.2 MB\n"
          ],
          "name": "stdout"
        }
      ]
    },
    {
      "cell_type": "code",
      "metadata": {
        "id": "4as0YlMJwAqg",
        "colab_type": "code",
        "colab": {
          "base_uri": "https://localhost:8080/",
          "height": 235
        },
        "outputId": "12c90122-778f-4d8a-bb1d-7c61c834a1b7"
      },
      "source": [
        "# class distribution \n",
        "train.groupby(by='median_house_value').size()"
      ],
      "execution_count": 29,
      "outputs": [
        {
          "output_type": "execute_result",
          "data": {
            "text/plain": [
              "median_house_value\n",
              "14999.0       4\n",
              "17500.0       1\n",
              "22500.0       3\n",
              "25000.0       1\n",
              "26600.0       1\n",
              "           ... \n",
              "498800.0      1\n",
              "499000.0      1\n",
              "499100.0      1\n",
              "500000.0     22\n",
              "500001.0    814\n",
              "Length: 3694, dtype: int64"
            ]
          },
          "metadata": {
            "tags": []
          },
          "execution_count": 29
        }
      ]
    },
    {
      "cell_type": "markdown",
      "metadata": {
        "id": "7FpZe1jcDgEb",
        "colab_type": "text"
      },
      "source": [
        "> On classification problems you need to know how balanced the class values are. \n",
        "- **Highly imbalanced problems** (a lot more observations for one class than another) are common and may need special handling in the data preparation stage of your project.\n",
        "- may lead to **overfiting**, the **model being bias** on the majority(**dominant**) class. "
      ]
    },
    {
      "cell_type": "code",
      "metadata": {
        "id": "tf2yqHcKwppj",
        "colab_type": "code",
        "colab": {
          "base_uri": "https://localhost:8080/",
          "height": 284
        },
        "outputId": "9f697b00-3b0d-41ac-e9c1-fbc63873c945"
      },
      "source": [
        "# summary statistics\n",
        "train.describe().iloc[:,2:]"
      ],
      "execution_count": 49,
      "outputs": [
        {
          "output_type": "execute_result",
          "data": {
            "text/html": [
              "<div>\n",
              "<style scoped>\n",
              "    .dataframe tbody tr th:only-of-type {\n",
              "        vertical-align: middle;\n",
              "    }\n",
              "\n",
              "    .dataframe tbody tr th {\n",
              "        vertical-align: top;\n",
              "    }\n",
              "\n",
              "    .dataframe thead th {\n",
              "        text-align: right;\n",
              "    }\n",
              "</style>\n",
              "<table border=\"1\" class=\"dataframe\">\n",
              "  <thead>\n",
              "    <tr style=\"text-align: right;\">\n",
              "      <th></th>\n",
              "      <th>housing_median_age</th>\n",
              "      <th>total_rooms</th>\n",
              "      <th>total_bedrooms</th>\n",
              "      <th>population</th>\n",
              "      <th>households</th>\n",
              "      <th>median_income</th>\n",
              "      <th>median_house_value</th>\n",
              "    </tr>\n",
              "  </thead>\n",
              "  <tbody>\n",
              "    <tr>\n",
              "      <th>count</th>\n",
              "      <td>17000.000</td>\n",
              "      <td>17000.000</td>\n",
              "      <td>17000.000</td>\n",
              "      <td>17000.000</td>\n",
              "      <td>17000.000</td>\n",
              "      <td>17000.000</td>\n",
              "      <td>17000.000</td>\n",
              "    </tr>\n",
              "    <tr>\n",
              "      <th>mean</th>\n",
              "      <td>28.589</td>\n",
              "      <td>2643.664</td>\n",
              "      <td>539.411</td>\n",
              "      <td>1429.574</td>\n",
              "      <td>501.222</td>\n",
              "      <td>3.884</td>\n",
              "      <td>207300.912</td>\n",
              "    </tr>\n",
              "    <tr>\n",
              "      <th>std</th>\n",
              "      <td>12.587</td>\n",
              "      <td>2179.947</td>\n",
              "      <td>421.499</td>\n",
              "      <td>1147.853</td>\n",
              "      <td>384.521</td>\n",
              "      <td>1.908</td>\n",
              "      <td>115983.764</td>\n",
              "    </tr>\n",
              "    <tr>\n",
              "      <th>min</th>\n",
              "      <td>1.000</td>\n",
              "      <td>2.000</td>\n",
              "      <td>1.000</td>\n",
              "      <td>3.000</td>\n",
              "      <td>1.000</td>\n",
              "      <td>0.500</td>\n",
              "      <td>14999.000</td>\n",
              "    </tr>\n",
              "    <tr>\n",
              "      <th>25%</th>\n",
              "      <td>18.000</td>\n",
              "      <td>1462.000</td>\n",
              "      <td>297.000</td>\n",
              "      <td>790.000</td>\n",
              "      <td>282.000</td>\n",
              "      <td>2.566</td>\n",
              "      <td>119400.000</td>\n",
              "    </tr>\n",
              "    <tr>\n",
              "      <th>50%</th>\n",
              "      <td>29.000</td>\n",
              "      <td>2127.000</td>\n",
              "      <td>434.000</td>\n",
              "      <td>1167.000</td>\n",
              "      <td>409.000</td>\n",
              "      <td>3.545</td>\n",
              "      <td>180400.000</td>\n",
              "    </tr>\n",
              "    <tr>\n",
              "      <th>75%</th>\n",
              "      <td>37.000</td>\n",
              "      <td>3151.250</td>\n",
              "      <td>648.250</td>\n",
              "      <td>1721.000</td>\n",
              "      <td>605.250</td>\n",
              "      <td>4.767</td>\n",
              "      <td>265000.000</td>\n",
              "    </tr>\n",
              "    <tr>\n",
              "      <th>max</th>\n",
              "      <td>52.000</td>\n",
              "      <td>37937.000</td>\n",
              "      <td>6445.000</td>\n",
              "      <td>35682.000</td>\n",
              "      <td>6082.000</td>\n",
              "      <td>15.000</td>\n",
              "      <td>500001.000</td>\n",
              "    </tr>\n",
              "  </tbody>\n",
              "</table>\n",
              "</div>"
            ],
            "text/plain": [
              "       housing_median_age  total_rooms  ...  median_income  median_house_value\n",
              "count           17000.000    17000.000  ...      17000.000           17000.000\n",
              "mean               28.589     2643.664  ...          3.884          207300.912\n",
              "std                12.587     2179.947  ...          1.908          115983.764\n",
              "min                 1.000        2.000  ...          0.500           14999.000\n",
              "25%                18.000     1462.000  ...          2.566          119400.000\n",
              "50%                29.000     2127.000  ...          3.545          180400.000\n",
              "75%                37.000     3151.250  ...          4.767          265000.000\n",
              "max                52.000    37937.000  ...         15.000          500001.000\n",
              "\n",
              "[8 rows x 7 columns]"
            ]
          },
          "metadata": {
            "tags": []
          },
          "execution_count": 49
        }
      ]
    },
    {
      "cell_type": "code",
      "metadata": {
        "id": "WfRQlVzR8rlt",
        "colab_type": "code",
        "colab": {
          "base_uri": "https://localhost:8080/",
          "height": 185
        },
        "outputId": "dbd559b9-b39c-436d-e9db-84e1a52d2093"
      },
      "source": [
        "# correlation of features with the target\n",
        "corr_matrix = train.corr(method='pearson')\n",
        "corr_matrix['median_house_value'].sort_values(ascending=False)"
      ],
      "execution_count": 54,
      "outputs": [
        {
          "output_type": "execute_result",
          "data": {
            "text/plain": [
              "median_house_value    1.000\n",
              "median_income         0.692\n",
              "total_rooms           0.131\n",
              "housing_median_age    0.107\n",
              "households            0.061\n",
              "total_bedrooms        0.046\n",
              "population           -0.028\n",
              "longitude            -0.045\n",
              "latitude             -0.145\n",
              "Name: median_house_value, dtype: float64"
            ]
          },
          "metadata": {
            "tags": []
          },
          "execution_count": 54
        }
      ]
    },
    {
      "cell_type": "markdown",
      "metadata": {
        "id": "yV-HqhIU90OB",
        "colab_type": "text"
      },
      "source": [
        ">  A **correlation** of **-1 or 1** shows a full **negative (-1)** or **positive (1)** correlation respectively. Whereas a value of **0 shows no correlation** at all.\n",
        "-  **positive correlation (towards +1)**: \n",
        "  - strong positive correlation **{0.5,...,1}**\n",
        "  - weak positive correlation **{0.0001,...,0.4}**\n",
        "-  **negative correlation ( towards -1)**: \n",
        "  - strong negative correlation **{-0.5,...,-1}**\n",
        "  - weak negative correlation **{-0.0001,...,-0.4}**\n",
        "\n",
        "> Some **machine learning algorithms** like linear and logistic regression can suffer poor performance if there are highly correlated attributes in your dataset."
      ]
    },
    {
      "cell_type": "code",
      "metadata": {
        "id": "a-gD-1_YAMxz",
        "colab_type": "code",
        "colab": {
          "base_uri": "https://localhost:8080/",
          "height": 185
        },
        "outputId": "6aa432c3-dca5-4daa-de8f-1aa83044a7fe"
      },
      "source": [
        "# skew of the data on each attribute\n",
        "skew = train.skew()\n",
        "skew "
      ],
      "execution_count": 56,
      "outputs": [
        {
          "output_type": "execute_result",
          "data": {
            "text/plain": [
              "longitude            -0.304\n",
              "latitude              0.472\n",
              "housing_median_age    0.065\n",
              "total_rooms           4.003\n",
              "total_bedrooms        3.323\n",
              "population            5.187\n",
              "households            3.343\n",
              "median_income         1.627\n",
              "median_house_value    0.973\n",
              "dtype: float64"
            ]
          },
          "metadata": {
            "tags": []
          },
          "execution_count": 56
        }
      ]
    },
    {
      "cell_type": "markdown",
      "metadata": {
        "id": "2zVbCM8_AvdZ",
        "colab_type": "text"
      },
      "source": [
        "> Skew refers to a distribution that is assumed **Gaussian (normal or bell curve)** that is shifted or squashed in one direction or another.\n",
        "- Many **machine learning algorithms** assume a *Gaussian distribution*.\n",
        "-  Knowing that an **attribute** **has a skew** may allow you to **perform data preparation to correct the skew** and later **improve the accuracy of your models**.\n",
        "\n",
        "> **Skewness**\n",
        "- The skew results show a positive (right skew) / **right tail** \n",
        "-  negative (left skew) / **left tail**.\n",
        "-Values closer to zero show less skew or near normal distribution.\n",
        "\n",
        "***You will understand better when visualising the Skew of Univariate Distributions***"
      ]
    },
    {
      "cell_type": "markdown",
      "metadata": {
        "id": "SB5Q66mIJMOy",
        "colab_type": "text"
      },
      "source": [
        "## VISUALIZATIONS"
      ]
    },
    {
      "cell_type": "code",
      "metadata": {
        "id": "DQsZo9YzJVLD",
        "colab_type": "code",
        "colab": {}
      },
      "source": [
        ""
      ],
      "execution_count": 0,
      "outputs": []
    },
    {
      "cell_type": "markdown",
      "metadata": {
        "id": "zx2ZX0jSJaK2",
        "colab_type": "text"
      },
      "source": [
        "# DATA PRE-PROCESSING (Task 3)\n",
        "> **Choose your option wisely**\n",
        "1.  Rescale Data\n",
        "2.  Standardize Data\n",
        "3.  Normalize Data\n",
        "4.  Binarize Data (Make Binary)\n",
        "\n",
        "\n"
      ]
    },
    {
      "cell_type": "code",
      "metadata": {
        "id": "jOApjqH4J3eM",
        "colab_type": "code",
        "colab": {
          "base_uri": "https://localhost:8080/",
          "height": 168
        },
        "outputId": "16a0f9d2-92ce-4891-e1c6-f33f5e0fc93d"
      },
      "source": [
        "# features / columns names\n",
        "train.columns.to_list()"
      ],
      "execution_count": 75,
      "outputs": [
        {
          "output_type": "execute_result",
          "data": {
            "text/plain": [
              "['longitude',\n",
              " 'latitude',\n",
              " 'housing_median_age',\n",
              " 'total_rooms',\n",
              " 'total_bedrooms',\n",
              " 'population',\n",
              " 'households',\n",
              " 'median_income',\n",
              " 'median_house_value']"
            ]
          },
          "metadata": {
            "tags": []
          },
          "execution_count": 75
        }
      ]
    },
    {
      "cell_type": "code",
      "metadata": {
        "id": "Ay0gJvE_JgbH",
        "colab_type": "code",
        "colab": {}
      },
      "source": [
        "# Separate target from features\n",
        "X = train.drop('median_house_value', axis=1)\n",
        "y = train['median_house_value']"
      ],
      "execution_count": 0,
      "outputs": []
    },
    {
      "cell_type": "markdown",
      "metadata": {
        "id": "8ULJ-TrhMHwR",
        "colab_type": "text"
      },
      "source": [
        "##  1. **Rescale Data**\n",
        "- When your data is comprised of **attributes with varying scales**, many **machine learning algorithms**\n",
        "can **benefit** from **rescaling the attributes to all have the same scale**.\n",
        "-  Often this is referred to as **normalization** and attributes are often rescaled into the **range between 0 and 1**.\n",
        "-  This is **useful for optimization algorithms** used in the core of machine learning algorithms like **gradient descent**.\n",
        "- It is also useful for *algorithms that weight inputs* like **regression** and **neural networks**\n",
        "and *algorithms that use distance measures* like **k-Nearest Neighbors**.\n",
        "- *You can rescale your data using s**cikit-learn** using the **MinMaxScaler** class*\n",
        "\n",
        "  ```python\n",
        "  # preprocessing imports\n",
        "  from sklearn.preprocessing import MinMaxScaler\n",
        "  ```\n",
        "\n",
        "**let's do this!**"
      ]
    },
    {
      "cell_type": "code",
      "metadata": {
        "id": "gtRd106fKbKT",
        "colab_type": "code",
        "colab": {
          "base_uri": "https://localhost:8080/",
          "height": 195
        },
        "outputId": "cf9b4302-b987-4364-fcad-0026bf39876e"
      },
      "source": [
        "# Define MinMaxScaler instance\n",
        "min_max_scaler = MinMaxScaler(feature_range=(0,1))\n",
        "\n",
        "# Scale only the features X\n",
        "X_rescaled = min_max_scaler.fit_transform(X)\n",
        "\n",
        "# summary of rescaled x\n",
        "pd.DataFrame(X_rescaled, columns=X.columns.to_list()).head()"
      ],
      "execution_count": 69,
      "outputs": [
        {
          "output_type": "execute_result",
          "data": {
            "text/html": [
              "<div>\n",
              "<style scoped>\n",
              "    .dataframe tbody tr th:only-of-type {\n",
              "        vertical-align: middle;\n",
              "    }\n",
              "\n",
              "    .dataframe tbody tr th {\n",
              "        vertical-align: top;\n",
              "    }\n",
              "\n",
              "    .dataframe thead th {\n",
              "        text-align: right;\n",
              "    }\n",
              "</style>\n",
              "<table border=\"1\" class=\"dataframe\">\n",
              "  <thead>\n",
              "    <tr style=\"text-align: right;\">\n",
              "      <th></th>\n",
              "      <th>longitude</th>\n",
              "      <th>latitude</th>\n",
              "      <th>housing_median_age</th>\n",
              "      <th>total_rooms</th>\n",
              "      <th>total_bedrooms</th>\n",
              "      <th>population</th>\n",
              "      <th>households</th>\n",
              "      <th>median_income</th>\n",
              "    </tr>\n",
              "  </thead>\n",
              "  <tbody>\n",
              "    <tr>\n",
              "      <th>0</th>\n",
              "      <td>1.000</td>\n",
              "      <td>0.175</td>\n",
              "      <td>0.275</td>\n",
              "      <td>0.148</td>\n",
              "      <td>0.199</td>\n",
              "      <td>0.028</td>\n",
              "      <td>0.077</td>\n",
              "      <td>0.069</td>\n",
              "    </tr>\n",
              "    <tr>\n",
              "      <th>1</th>\n",
              "      <td>0.984</td>\n",
              "      <td>0.198</td>\n",
              "      <td>0.353</td>\n",
              "      <td>0.202</td>\n",
              "      <td>0.295</td>\n",
              "      <td>0.032</td>\n",
              "      <td>0.076</td>\n",
              "      <td>0.091</td>\n",
              "    </tr>\n",
              "    <tr>\n",
              "      <th>2</th>\n",
              "      <td>0.975</td>\n",
              "      <td>0.122</td>\n",
              "      <td>0.314</td>\n",
              "      <td>0.019</td>\n",
              "      <td>0.027</td>\n",
              "      <td>0.009</td>\n",
              "      <td>0.019</td>\n",
              "      <td>0.079</td>\n",
              "    </tr>\n",
              "    <tr>\n",
              "      <th>3</th>\n",
              "      <td>0.974</td>\n",
              "      <td>0.117</td>\n",
              "      <td>0.255</td>\n",
              "      <td>0.040</td>\n",
              "      <td>0.052</td>\n",
              "      <td>0.014</td>\n",
              "      <td>0.037</td>\n",
              "      <td>0.186</td>\n",
              "    </tr>\n",
              "    <tr>\n",
              "      <th>4</th>\n",
              "      <td>0.974</td>\n",
              "      <td>0.109</td>\n",
              "      <td>0.373</td>\n",
              "      <td>0.038</td>\n",
              "      <td>0.050</td>\n",
              "      <td>0.017</td>\n",
              "      <td>0.043</td>\n",
              "      <td>0.098</td>\n",
              "    </tr>\n",
              "  </tbody>\n",
              "</table>\n",
              "</div>"
            ],
            "text/plain": [
              "   longitude  latitude  ...  households  median_income\n",
              "0      1.000     0.175  ...       0.077          0.069\n",
              "1      0.984     0.198  ...       0.076          0.091\n",
              "2      0.975     0.122  ...       0.019          0.079\n",
              "3      0.974     0.117  ...       0.037          0.186\n",
              "4      0.974     0.109  ...       0.043          0.098\n",
              "\n",
              "[5 rows x 8 columns]"
            ]
          },
          "metadata": {
            "tags": []
          },
          "execution_count": 69
        }
      ]
    },
    {
      "cell_type": "markdown",
      "metadata": {
        "id": "LVASjglgOvQI",
        "colab_type": "text"
      },
      "source": [
        "## 2.  **Standardize Data**\n",
        "\n",
        "- Standardization is a useful technique to transform attributes with a **Gaussian distribution and differing means and standard deviations**  to a standard Gaussian distribution with:\n",
        " - **mean=0** \n",
        " - **standard deviation= 1**. \n",
        "- It is most suitable for techniques that assume a Gaussian\n",
        "distribution in the input variables and work better with rescaled data, such as:\n",
        " - **linear regression**\n",
        " - **logistic regression**\n",
        " - **linear discriminate analysis**.\n",
        "- You can standardize data using **scikit-learn**\n",
        "with the **StandardScaler** class\n",
        "```python\n",
        "  # preprocessing imports\n",
        "  from sklearn.preprocessing import StandardScaler\n",
        "```\n",
        "\n",
        "**let's do it!**"
      ]
    },
    {
      "cell_type": "code",
      "metadata": {
        "id": "lYtcwEkCO1SY",
        "colab_type": "code",
        "colab": {
          "base_uri": "https://localhost:8080/",
          "height": 195
        },
        "outputId": "d3c9a5c0-449d-4be4-c495-5a028b5dce6d"
      },
      "source": [
        "# define the Standardize instance with (0 mean, 1 stdev)\n",
        "standard_scaler = StandardScaler()\n",
        "\n",
        "# fit the features X only\n",
        "# standard_scaler.fit_transform(X) # one step process only for training X\n",
        "standard_scaler.fit(X)\n",
        "\n",
        "# Transform X\n",
        "X_standard = standard_scaler.transform(X) \n",
        "\n",
        "# summary of standard x\n",
        "pd.DataFrame(X_standard, columns=X.columns.to_list()).head()\n"
      ],
      "execution_count": 74,
      "outputs": [
        {
          "output_type": "execute_result",
          "data": {
            "text/html": [
              "<div>\n",
              "<style scoped>\n",
              "    .dataframe tbody tr th:only-of-type {\n",
              "        vertical-align: middle;\n",
              "    }\n",
              "\n",
              "    .dataframe tbody tr th {\n",
              "        vertical-align: top;\n",
              "    }\n",
              "\n",
              "    .dataframe thead th {\n",
              "        text-align: right;\n",
              "    }\n",
              "</style>\n",
              "<table border=\"1\" class=\"dataframe\">\n",
              "  <thead>\n",
              "    <tr style=\"text-align: right;\">\n",
              "      <th></th>\n",
              "      <th>longitude</th>\n",
              "      <th>latitude</th>\n",
              "      <th>housing_median_age</th>\n",
              "      <th>total_rooms</th>\n",
              "      <th>total_bedrooms</th>\n",
              "      <th>population</th>\n",
              "      <th>households</th>\n",
              "      <th>median_income</th>\n",
              "    </tr>\n",
              "  </thead>\n",
              "  <tbody>\n",
              "    <tr>\n",
              "      <th>0</th>\n",
              "      <td>2.619</td>\n",
              "      <td>-0.672</td>\n",
              "      <td>-1.080</td>\n",
              "      <td>1.362</td>\n",
              "      <td>1.764</td>\n",
              "      <td>-0.361</td>\n",
              "      <td>-0.076</td>\n",
              "      <td>-1.253</td>\n",
              "    </tr>\n",
              "    <tr>\n",
              "      <th>1</th>\n",
              "      <td>2.540</td>\n",
              "      <td>-0.573</td>\n",
              "      <td>-0.762</td>\n",
              "      <td>2.297</td>\n",
              "      <td>3.230</td>\n",
              "      <td>-0.262</td>\n",
              "      <td>-0.099</td>\n",
              "      <td>-1.081</td>\n",
              "    </tr>\n",
              "    <tr>\n",
              "      <th>2</th>\n",
              "      <td>2.495</td>\n",
              "      <td>-0.905</td>\n",
              "      <td>-0.921</td>\n",
              "      <td>-0.882</td>\n",
              "      <td>-0.867</td>\n",
              "      <td>-0.955</td>\n",
              "      <td>-0.999</td>\n",
              "      <td>-1.170</td>\n",
              "    </tr>\n",
              "    <tr>\n",
              "      <th>3</th>\n",
              "      <td>2.490</td>\n",
              "      <td>-0.929</td>\n",
              "      <td>-1.159</td>\n",
              "      <td>-0.524</td>\n",
              "      <td>-0.480</td>\n",
              "      <td>-0.797</td>\n",
              "      <td>-0.716</td>\n",
              "      <td>-0.363</td>\n",
              "    </tr>\n",
              "    <tr>\n",
              "      <th>4</th>\n",
              "      <td>2.490</td>\n",
              "      <td>-0.962</td>\n",
              "      <td>-0.682</td>\n",
              "      <td>-0.546</td>\n",
              "      <td>-0.506</td>\n",
              "      <td>-0.702</td>\n",
              "      <td>-0.622</td>\n",
              "      <td>-1.026</td>\n",
              "    </tr>\n",
              "  </tbody>\n",
              "</table>\n",
              "</div>"
            ],
            "text/plain": [
              "   longitude  latitude  ...  households  median_income\n",
              "0      2.619    -0.672  ...      -0.076         -1.253\n",
              "1      2.540    -0.573  ...      -0.099         -1.081\n",
              "2      2.495    -0.905  ...      -0.999         -1.170\n",
              "3      2.490    -0.929  ...      -0.716         -0.363\n",
              "4      2.490    -0.962  ...      -0.622         -1.026\n",
              "\n",
              "[5 rows x 8 columns]"
            ]
          },
          "metadata": {
            "tags": []
          },
          "execution_count": 74
        }
      ]
    },
    {
      "cell_type": "markdown",
      "metadata": {
        "id": "fMs00QapWhdY",
        "colab_type": "text"
      },
      "source": [
        "## 3. Normalize Data\n",
        "\n",
        "Normalizing in scikit-learn refers to rescaling each observation (row) to have a length of 1 (called\n",
        "a unit norm or a vector with the length of 1 in linear algebra).\n",
        "- This pre-processing method\n",
        "can be useful for **sparse datasets (lots of zeros)** with attributes of varying scales \n",
        "- when using: \n",
        "  - **algorithms that weight input values** such as **neural networks**\n",
        "  - **algorithms that use distance measures**  such as **k-Nearest Neighbors**. \n",
        "  \n",
        "You can normalize data in Python with **scikit-learn** using the **Normalizer** class\n",
        "```python\n",
        "  # preprocessing imports\n",
        "  from sklearn.preprocessing import  Normalizer\n",
        "```\n",
        "\n",
        "**let's do it**\n",
        "\n"
      ]
    },
    {
      "cell_type": "code",
      "metadata": {
        "id": "BdG_-4D7YGgy",
        "colab_type": "code",
        "colab": {
          "base_uri": "https://localhost:8080/",
          "height": 195
        },
        "outputId": "0d8ce887-da24-4ca7-b599-3276e0d12e1f"
      },
      "source": [
        "# define the Normalizer instance\n",
        "normalizer_scaler = Normalizer()\n",
        "\n",
        "# fit the features X only\n",
        "# normalizer_scaler.fit_transform(X) # one step process only for training X\n",
        "normalizer_scaler.fit(X)\n",
        "\n",
        "# Transform X\n",
        "X_normalized = normalizer_scaler.transform(X) \n",
        "\n",
        "# summary of standard x\n",
        "pd.DataFrame(X_normalized, columns=X.columns.to_list()).head()"
      ],
      "execution_count": 79,
      "outputs": [
        {
          "output_type": "execute_result",
          "data": {
            "text/html": [
              "<div>\n",
              "<style scoped>\n",
              "    .dataframe tbody tr th:only-of-type {\n",
              "        vertical-align: middle;\n",
              "    }\n",
              "\n",
              "    .dataframe tbody tr th {\n",
              "        vertical-align: top;\n",
              "    }\n",
              "\n",
              "    .dataframe thead th {\n",
              "        text-align: right;\n",
              "    }\n",
              "</style>\n",
              "<table border=\"1\" class=\"dataframe\">\n",
              "  <thead>\n",
              "    <tr style=\"text-align: right;\">\n",
              "      <th></th>\n",
              "      <th>longitude</th>\n",
              "      <th>latitude</th>\n",
              "      <th>housing_median_age</th>\n",
              "      <th>total_rooms</th>\n",
              "      <th>total_bedrooms</th>\n",
              "      <th>population</th>\n",
              "      <th>households</th>\n",
              "      <th>median_income</th>\n",
              "    </tr>\n",
              "  </thead>\n",
              "  <tbody>\n",
              "    <tr>\n",
              "      <th>0</th>\n",
              "      <td>-0.019</td>\n",
              "      <td>0.006</td>\n",
              "      <td>0.003</td>\n",
              "      <td>0.957</td>\n",
              "      <td>0.219</td>\n",
              "      <td>0.173</td>\n",
              "      <td>0.080</td>\n",
              "      <td>2.546e-04</td>\n",
              "    </tr>\n",
              "    <tr>\n",
              "      <th>1</th>\n",
              "      <td>-0.014</td>\n",
              "      <td>0.004</td>\n",
              "      <td>0.002</td>\n",
              "      <td>0.959</td>\n",
              "      <td>0.238</td>\n",
              "      <td>0.142</td>\n",
              "      <td>0.058</td>\n",
              "      <td>2.281e-04</td>\n",
              "    </tr>\n",
              "    <tr>\n",
              "      <th>2</th>\n",
              "      <td>-0.138</td>\n",
              "      <td>0.041</td>\n",
              "      <td>0.020</td>\n",
              "      <td>0.868</td>\n",
              "      <td>0.210</td>\n",
              "      <td>0.402</td>\n",
              "      <td>0.141</td>\n",
              "      <td>1.991e-03</td>\n",
              "    </tr>\n",
              "    <tr>\n",
              "      <th>3</th>\n",
              "      <td>-0.070</td>\n",
              "      <td>0.020</td>\n",
              "      <td>0.009</td>\n",
              "      <td>0.914</td>\n",
              "      <td>0.205</td>\n",
              "      <td>0.314</td>\n",
              "      <td>0.138</td>\n",
              "      <td>1.943e-03</td>\n",
              "    </tr>\n",
              "    <tr>\n",
              "      <th>4</th>\n",
              "      <td>-0.070</td>\n",
              "      <td>0.020</td>\n",
              "      <td>0.012</td>\n",
              "      <td>0.886</td>\n",
              "      <td>0.199</td>\n",
              "      <td>0.380</td>\n",
              "      <td>0.160</td>\n",
              "      <td>1.173e-03</td>\n",
              "    </tr>\n",
              "  </tbody>\n",
              "</table>\n",
              "</div>"
            ],
            "text/plain": [
              "   longitude  latitude  ...  households  median_income\n",
              "0     -0.019     0.006  ...       0.080      2.546e-04\n",
              "1     -0.014     0.004  ...       0.058      2.281e-04\n",
              "2     -0.138     0.041  ...       0.141      1.991e-03\n",
              "3     -0.070     0.020  ...       0.138      1.943e-03\n",
              "4     -0.070     0.020  ...       0.160      1.173e-03\n",
              "\n",
              "[5 rows x 8 columns]"
            ]
          },
          "metadata": {
            "tags": []
          },
          "execution_count": 79
        }
      ]
    },
    {
      "cell_type": "markdown",
      "metadata": {
        "id": "zE7yssjKZukG",
        "colab_type": "text"
      },
      "source": [
        "## 4. Binarize Data (Make Binary)\n",
        "\n",
        "> You can transform your data using a **binary threshold**.\n",
        " - All values **above** the threshold are **marked 1**.\n",
        " - All values **equal to or below** are **marked 0**.\n",
        "\n",
        "> This is called **binarizing** your data or **thresholding** your data. \n",
        "- It can be useful when you have probabilities that you want to make\n",
        "into crisp values.\n",
        "- It is also useful when feature engineering and you want to add new features\n",
        "that indicate something meaningful.\n",
        "\n",
        " You can create new binary attributes in Python using\n",
        "**scikit-learn** with the **Binarizer** class\n",
        "\n",
        "```python\n",
        "   # preprocessing imports\n",
        "  from sklearn.preprocessing import  Binarizer\n",
        "```"
      ]
    },
    {
      "cell_type": "code",
      "metadata": {
        "id": "_E7F_Aw-bRl-",
        "colab_type": "code",
        "colab": {
          "base_uri": "https://localhost:8080/",
          "height": 195
        },
        "outputId": "809416e9-d430-493f-ee55-232583548eaa"
      },
      "source": [
        "# define the Binarizer instance\n",
        "# Note threshold=1.5 was randomly chosen but in your case you will use your project requirements\n",
        "binarizer_scaler = Binarizer(threshold=1.5) \n",
        "\n",
        "# fit the features X only\n",
        "X_normalized = binarizer_scaler.fit_transform(X) # one step process only for training X\n",
        " \n",
        "# summary of standard x\n",
        "pd.DataFrame(X_normalized, columns=X.columns.to_list()).head()"
      ],
      "execution_count": 83,
      "outputs": [
        {
          "output_type": "execute_result",
          "data": {
            "text/html": [
              "<div>\n",
              "<style scoped>\n",
              "    .dataframe tbody tr th:only-of-type {\n",
              "        vertical-align: middle;\n",
              "    }\n",
              "\n",
              "    .dataframe tbody tr th {\n",
              "        vertical-align: top;\n",
              "    }\n",
              "\n",
              "    .dataframe thead th {\n",
              "        text-align: right;\n",
              "    }\n",
              "</style>\n",
              "<table border=\"1\" class=\"dataframe\">\n",
              "  <thead>\n",
              "    <tr style=\"text-align: right;\">\n",
              "      <th></th>\n",
              "      <th>longitude</th>\n",
              "      <th>latitude</th>\n",
              "      <th>housing_median_age</th>\n",
              "      <th>total_rooms</th>\n",
              "      <th>total_bedrooms</th>\n",
              "      <th>population</th>\n",
              "      <th>households</th>\n",
              "      <th>median_income</th>\n",
              "    </tr>\n",
              "  </thead>\n",
              "  <tbody>\n",
              "    <tr>\n",
              "      <th>0</th>\n",
              "      <td>0.0</td>\n",
              "      <td>1.0</td>\n",
              "      <td>1.0</td>\n",
              "      <td>1.0</td>\n",
              "      <td>1.0</td>\n",
              "      <td>1.0</td>\n",
              "      <td>1.0</td>\n",
              "      <td>0.0</td>\n",
              "    </tr>\n",
              "    <tr>\n",
              "      <th>1</th>\n",
              "      <td>0.0</td>\n",
              "      <td>1.0</td>\n",
              "      <td>1.0</td>\n",
              "      <td>1.0</td>\n",
              "      <td>1.0</td>\n",
              "      <td>1.0</td>\n",
              "      <td>1.0</td>\n",
              "      <td>1.0</td>\n",
              "    </tr>\n",
              "    <tr>\n",
              "      <th>2</th>\n",
              "      <td>0.0</td>\n",
              "      <td>1.0</td>\n",
              "      <td>1.0</td>\n",
              "      <td>1.0</td>\n",
              "      <td>1.0</td>\n",
              "      <td>1.0</td>\n",
              "      <td>1.0</td>\n",
              "      <td>1.0</td>\n",
              "    </tr>\n",
              "    <tr>\n",
              "      <th>3</th>\n",
              "      <td>0.0</td>\n",
              "      <td>1.0</td>\n",
              "      <td>1.0</td>\n",
              "      <td>1.0</td>\n",
              "      <td>1.0</td>\n",
              "      <td>1.0</td>\n",
              "      <td>1.0</td>\n",
              "      <td>1.0</td>\n",
              "    </tr>\n",
              "    <tr>\n",
              "      <th>4</th>\n",
              "      <td>0.0</td>\n",
              "      <td>1.0</td>\n",
              "      <td>1.0</td>\n",
              "      <td>1.0</td>\n",
              "      <td>1.0</td>\n",
              "      <td>1.0</td>\n",
              "      <td>1.0</td>\n",
              "      <td>1.0</td>\n",
              "    </tr>\n",
              "  </tbody>\n",
              "</table>\n",
              "</div>"
            ],
            "text/plain": [
              "   longitude  latitude  ...  households  median_income\n",
              "0        0.0       1.0  ...         1.0            0.0\n",
              "1        0.0       1.0  ...         1.0            1.0\n",
              "2        0.0       1.0  ...         1.0            1.0\n",
              "3        0.0       1.0  ...         1.0            1.0\n",
              "4        0.0       1.0  ...         1.0            1.0\n",
              "\n",
              "[5 rows x 8 columns]"
            ]
          },
          "metadata": {
            "tags": []
          },
          "execution_count": 83
        }
      ]
    },
    {
      "cell_type": "markdown",
      "metadata": {
        "id": "UH1JjQhfE_Tf",
        "colab_type": "text"
      },
      "source": [
        "# Credits:\n",
        "[sample book of machine learning mastery with python](https://s3.amazonaws.com/MLMastery/machine_learning_mastery_with_python_sample.pdf?__s=xbk5xvmjh72bie7r2u3u)"
      ]
    }
  ]
}