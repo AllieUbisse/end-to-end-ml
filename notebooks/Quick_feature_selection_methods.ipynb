{
  "nbformat": 4,
  "nbformat_minor": 0,
  "metadata": {
    "colab": {
      "name": "Quick_feature_selection_methods.ipynb",
      "provenance": [],
      "toc_visible": true,
      "authorship_tag": "ABX9TyO98C8hWfEcmuRCWjdzZMmu",
      "include_colab_link": true
    },
    "kernelspec": {
      "name": "python3",
      "display_name": "Python 3"
    }
  },
  "cells": [
    {
      "cell_type": "markdown",
      "metadata": {
        "id": "view-in-github",
        "colab_type": "text"
      },
      "source": [
        "<a href=\"https://colab.research.google.com/github/AllieUbisse/end-to-end-ml/blob/master/notebooks/Quick_feature_selection_methods.ipynb\" target=\"_parent\"><img src=\"https://colab.research.google.com/assets/colab-badge.svg\" alt=\"Open In Colab\"/></a>"
      ]
    },
    {
      "cell_type": "markdown",
      "metadata": {
        "id": "O2KIhvXvk1R4",
        "colab_type": "text"
      },
      "source": [
        "\n",
        "\n",
        "# Attribute information:\n",
        "\n",
        "##Input variables:\n",
        "### **bank client data**:\n",
        "1 - age (numeric)\n",
        "\n",
        "2 - job : type of job (categorical: \"admin.\",\"unknown\",\"unemployed\",\"management\",\"housemaid\",\"entrepreneur\",\"student\",\n",
        "                                  \"blue-collar\",\"self-employed\",\"retired\",\"technician\",\"services\") \n",
        "\n",
        "3 - marital : marital status (categorical: \"married\",\"divorced\",\"single\"; note: \"divorced\" means divorced or widowed)\n",
        "\n",
        "4 - education (categorical: \"unknown\",\"secondary\",\"primary\",\"tertiary\")\n",
        "\n",
        "5 - default: has credit in default? (binary: \"yes\",\"no\")\n",
        "\n",
        "6 - balance: average yearly balance, in euros (numeric) \n",
        "\n",
        "7 - housing: has housing loan? (binary: \"yes\",\"no\")\n",
        "\n",
        "8 - loan: has personal loan? (binary: \"yes\",\"no\")\n",
        "\n",
        "###  **related with the last contact of the current campaign:**\n",
        "\n",
        "9 - contact: contact communication type (categorical: \"unknown\",\"telephone\",\"cellular\") \n",
        "\n",
        "10 - day: last contact day of the month (numeric)\n",
        "\n",
        "11 - month: last contact month of year (categorical: \"jan\", \"feb\", \"mar\", ..., \"nov\", \"dec\")\n",
        "\n",
        "12 - duration: last contact duration, in seconds (numeric)\n",
        "\n",
        "### **other attributes**:\n",
        "\n",
        "13 - campaign: number of contacts performed during this campaign and for this client (numeric, \n",
        "includes last contact)\n",
        "\n",
        "14 - pdays: number of days that passed by after the client was last contacted from a previous \n",
        "campaign (numeric, -1 means client was not previously contacted)\n",
        "\n",
        "15 - previous: number of contacts performed before this campaign and for this client (numeric)\n",
        "\n",
        "16 - poutcome: outcome of the previous marketing campaign (categorical: \"unknown\",\"other\",\"failure\",\"success\")\n",
        "\n",
        "\n",
        "### **Output variable (desired target):**\n",
        "17 - y - has the client subscribed a term deposit? (binary: \"yes\",\"no\")"
      ]
    },
    {
      "cell_type": "markdown",
      "metadata": {
        "id": "z6frXKAsZrIe",
        "colab_type": "text"
      },
      "source": [
        "# imports"
      ]
    },
    {
      "cell_type": "code",
      "metadata": {
        "id": "rmezsk3maXH3",
        "colab_type": "code",
        "colab": {}
      },
      "source": [
        "# Data manipulation imports\n",
        "import pandas as pd\n",
        "import numpy as np\n",
        "import zipfile\n",
        "\n",
        "# visualization imports\n",
        "import matplotlib.pyplot as plt\n",
        "import seaborn as sns\n",
        "%matplotlib inline\n",
        "\n",
        "# preprocessing\n",
        "from sklearn.model_selection import train_test_split\n",
        "\n",
        "# feature selection imports\n",
        "from sklearn.feature_selection import SelectKBest\n",
        "from sklearn.feature_selection import chi2\n",
        "\n",
        "# model evaluation imports\n",
        "\n",
        "# ML algorithms imports"
      ],
      "execution_count": 0,
      "outputs": []
    },
    {
      "cell_type": "markdown",
      "metadata": {
        "id": "zVNj1xxnZu1s",
        "colab_type": "text"
      },
      "source": [
        "# Load data"
      ]
    },
    {
      "cell_type": "code",
      "metadata": {
        "id": "RYElJ-Y_fPma",
        "colab_type": "code",
        "colab": {
          "base_uri": "https://localhost:8080/",
          "height": 34
        },
        "outputId": "04d0e88b-4d99-482f-8dbb-5efe5de10ead"
      },
      "source": [
        "# set data urls\n",
        "bank_full_url ='https://raw.githubusercontent.com/AllieUbisse/DataHouse/master/bank/bank-full.csv'\n",
        "bank_url = 'https://raw.githubusercontent.com/AllieUbisse/DataHouse/master/bank/bank.csv'\n",
        "\n",
        "# read data \n",
        "bank = pd.read_csv(bank_url, delimiter=';')\n",
        "bank_full = pd.read_csv(bank_full_url, delimiter=';')\n",
        "bank.shape, bank_full.shape"
      ],
      "execution_count": 116,
      "outputs": [
        {
          "output_type": "execute_result",
          "data": {
            "text/plain": [
              "((4521, 17), (45211, 17))"
            ]
          },
          "metadata": {
            "tags": []
          },
          "execution_count": 116
        }
      ]
    },
    {
      "cell_type": "markdown",
      "metadata": {
        "id": "ka7If5zeZyWc",
        "colab_type": "text"
      },
      "source": [
        "# EDA"
      ]
    },
    {
      "cell_type": "code",
      "metadata": {
        "id": "JYqfKLagiqYx",
        "colab_type": "code",
        "colab": {
          "base_uri": "https://localhost:8080/",
          "height": 195
        },
        "outputId": "d48a3833-75bf-4da4-8cd4-988315a7b055"
      },
      "source": [
        "# view full data\n",
        "bank_full.head()"
      ],
      "execution_count": 117,
      "outputs": [
        {
          "output_type": "execute_result",
          "data": {
            "text/html": [
              "<div>\n",
              "<style scoped>\n",
              "    .dataframe tbody tr th:only-of-type {\n",
              "        vertical-align: middle;\n",
              "    }\n",
              "\n",
              "    .dataframe tbody tr th {\n",
              "        vertical-align: top;\n",
              "    }\n",
              "\n",
              "    .dataframe thead th {\n",
              "        text-align: right;\n",
              "    }\n",
              "</style>\n",
              "<table border=\"1\" class=\"dataframe\">\n",
              "  <thead>\n",
              "    <tr style=\"text-align: right;\">\n",
              "      <th></th>\n",
              "      <th>age</th>\n",
              "      <th>job</th>\n",
              "      <th>marital</th>\n",
              "      <th>education</th>\n",
              "      <th>default</th>\n",
              "      <th>balance</th>\n",
              "      <th>housing</th>\n",
              "      <th>loan</th>\n",
              "      <th>contact</th>\n",
              "      <th>day</th>\n",
              "      <th>month</th>\n",
              "      <th>duration</th>\n",
              "      <th>campaign</th>\n",
              "      <th>pdays</th>\n",
              "      <th>previous</th>\n",
              "      <th>poutcome</th>\n",
              "      <th>y</th>\n",
              "    </tr>\n",
              "  </thead>\n",
              "  <tbody>\n",
              "    <tr>\n",
              "      <th>0</th>\n",
              "      <td>58</td>\n",
              "      <td>management</td>\n",
              "      <td>married</td>\n",
              "      <td>tertiary</td>\n",
              "      <td>no</td>\n",
              "      <td>2143</td>\n",
              "      <td>yes</td>\n",
              "      <td>no</td>\n",
              "      <td>unknown</td>\n",
              "      <td>5</td>\n",
              "      <td>may</td>\n",
              "      <td>261</td>\n",
              "      <td>1</td>\n",
              "      <td>-1</td>\n",
              "      <td>0</td>\n",
              "      <td>unknown</td>\n",
              "      <td>no</td>\n",
              "    </tr>\n",
              "    <tr>\n",
              "      <th>1</th>\n",
              "      <td>44</td>\n",
              "      <td>technician</td>\n",
              "      <td>single</td>\n",
              "      <td>secondary</td>\n",
              "      <td>no</td>\n",
              "      <td>29</td>\n",
              "      <td>yes</td>\n",
              "      <td>no</td>\n",
              "      <td>unknown</td>\n",
              "      <td>5</td>\n",
              "      <td>may</td>\n",
              "      <td>151</td>\n",
              "      <td>1</td>\n",
              "      <td>-1</td>\n",
              "      <td>0</td>\n",
              "      <td>unknown</td>\n",
              "      <td>no</td>\n",
              "    </tr>\n",
              "    <tr>\n",
              "      <th>2</th>\n",
              "      <td>33</td>\n",
              "      <td>entrepreneur</td>\n",
              "      <td>married</td>\n",
              "      <td>secondary</td>\n",
              "      <td>no</td>\n",
              "      <td>2</td>\n",
              "      <td>yes</td>\n",
              "      <td>yes</td>\n",
              "      <td>unknown</td>\n",
              "      <td>5</td>\n",
              "      <td>may</td>\n",
              "      <td>76</td>\n",
              "      <td>1</td>\n",
              "      <td>-1</td>\n",
              "      <td>0</td>\n",
              "      <td>unknown</td>\n",
              "      <td>no</td>\n",
              "    </tr>\n",
              "    <tr>\n",
              "      <th>3</th>\n",
              "      <td>47</td>\n",
              "      <td>blue-collar</td>\n",
              "      <td>married</td>\n",
              "      <td>unknown</td>\n",
              "      <td>no</td>\n",
              "      <td>1506</td>\n",
              "      <td>yes</td>\n",
              "      <td>no</td>\n",
              "      <td>unknown</td>\n",
              "      <td>5</td>\n",
              "      <td>may</td>\n",
              "      <td>92</td>\n",
              "      <td>1</td>\n",
              "      <td>-1</td>\n",
              "      <td>0</td>\n",
              "      <td>unknown</td>\n",
              "      <td>no</td>\n",
              "    </tr>\n",
              "    <tr>\n",
              "      <th>4</th>\n",
              "      <td>33</td>\n",
              "      <td>unknown</td>\n",
              "      <td>single</td>\n",
              "      <td>unknown</td>\n",
              "      <td>no</td>\n",
              "      <td>1</td>\n",
              "      <td>no</td>\n",
              "      <td>no</td>\n",
              "      <td>unknown</td>\n",
              "      <td>5</td>\n",
              "      <td>may</td>\n",
              "      <td>198</td>\n",
              "      <td>1</td>\n",
              "      <td>-1</td>\n",
              "      <td>0</td>\n",
              "      <td>unknown</td>\n",
              "      <td>no</td>\n",
              "    </tr>\n",
              "  </tbody>\n",
              "</table>\n",
              "</div>"
            ],
            "text/plain": [
              "   age           job  marital  education  ... pdays  previous poutcome   y\n",
              "0   58    management  married   tertiary  ...    -1         0  unknown  no\n",
              "1   44    technician   single  secondary  ...    -1         0  unknown  no\n",
              "2   33  entrepreneur  married  secondary  ...    -1         0  unknown  no\n",
              "3   47   blue-collar  married    unknown  ...    -1         0  unknown  no\n",
              "4   33       unknown   single    unknown  ...    -1         0  unknown  no\n",
              "\n",
              "[5 rows x 17 columns]"
            ]
          },
          "metadata": {
            "tags": []
          },
          "execution_count": 117
        }
      ]
    },
    {
      "cell_type": "code",
      "metadata": {
        "id": "NDfmyp42qHPf",
        "colab_type": "code",
        "colab": {
          "base_uri": "https://localhost:8080/",
          "height": 319
        },
        "outputId": "1dff35a2-e565-46dd-cb89-7b91331b0eb1"
      },
      "source": [
        "# get data types \n",
        "bank_full.dtypes"
      ],
      "execution_count": 28,
      "outputs": [
        {
          "output_type": "execute_result",
          "data": {
            "text/plain": [
              "age           int64\n",
              "job          object\n",
              "marital      object\n",
              "education    object\n",
              "default      object\n",
              "balance       int64\n",
              "housing      object\n",
              "loan         object\n",
              "contact      object\n",
              "day           int64\n",
              "month        object\n",
              "duration      int64\n",
              "campaign      int64\n",
              "pdays         int64\n",
              "previous      int64\n",
              "poutcome     object\n",
              "y            object\n",
              "dtype: object"
            ]
          },
          "metadata": {
            "tags": []
          },
          "execution_count": 28
        }
      ]
    },
    {
      "cell_type": "code",
      "metadata": {
        "id": "AnqR30hmpGHE",
        "colab_type": "code",
        "colab": {
          "base_uri": "https://localhost:8080/",
          "height": 84
        },
        "outputId": "9c92eced-fdf1-40fe-914c-c06b9c594720"
      },
      "source": [
        "# class distribution\n",
        "bank_full.groupby(['y']).size()"
      ],
      "execution_count": 49,
      "outputs": [
        {
          "output_type": "execute_result",
          "data": {
            "text/plain": [
              "y\n",
              "no     39922\n",
              "yes     5289\n",
              "dtype: int64"
            ]
          },
          "metadata": {
            "tags": []
          },
          "execution_count": 49
        }
      ]
    },
    {
      "cell_type": "code",
      "metadata": {
        "id": "WsLVgNI8B9tT",
        "colab_type": "code",
        "colab": {
          "base_uri": "https://localhost:8080/",
          "height": 252
        },
        "outputId": "dd27bfc2-bad6-42bc-b9ed-827c5dd3b8a0"
      },
      "source": [
        "bank_full.groupby(['job']).size()"
      ],
      "execution_count": 136,
      "outputs": [
        {
          "output_type": "execute_result",
          "data": {
            "text/plain": [
              "job\n",
              "admin.           5171\n",
              "blue-collar      9732\n",
              "entrepreneur     1487\n",
              "housemaid        1240\n",
              "management       9458\n",
              "retired          2264\n",
              "self-employed    1579\n",
              "services         4154\n",
              "student           938\n",
              "technician       7597\n",
              "unemployed       1303\n",
              "unknown           288\n",
              "dtype: int64"
            ]
          },
          "metadata": {
            "tags": []
          },
          "execution_count": 136
        }
      ]
    },
    {
      "cell_type": "code",
      "metadata": {
        "id": "HskfXxdmEfrg",
        "colab_type": "code",
        "colab": {
          "base_uri": "https://localhost:8080/",
          "height": 218
        },
        "outputId": "abf04880-e55a-4e64-f363-bf49d25b590f"
      },
      "source": [
        "bank_full[ bank_full['job'] == 'unknown' ]['age']"
      ],
      "execution_count": 138,
      "outputs": [
        {
          "output_type": "execute_result",
          "data": {
            "text/plain": [
              "4        33\n",
              "216      47\n",
              "354      59\n",
              "876      37\n",
              "1072     29\n",
              "         ..\n",
              "44714    45\n",
              "44742    64\n",
              "44970    28\n",
              "45141    77\n",
              "45186    59\n",
              "Name: age, Length: 288, dtype: int64"
            ]
          },
          "metadata": {
            "tags": []
          },
          "execution_count": 138
        }
      ]
    },
    {
      "cell_type": "code",
      "metadata": {
        "id": "TcCIPJv00YJa",
        "colab_type": "code",
        "colab": {
          "base_uri": "https://localhost:8080/",
          "height": 449
        },
        "outputId": "a3fb4194-efe1-4240-8c7c-a1328a682698"
      },
      "source": [
        "# set size of the figure\n",
        "plt.figure(figsize=(8,6))\n",
        "\n",
        "# plot age vs jobs \n",
        "sns.swarmplot(x='job', y='age', data=bank_full.sample(10000))\n",
        "plt.xticks(rotation=75)\n",
        "plt.show()"
      ],
      "execution_count": 158,
      "outputs": [
        {
          "output_type": "display_data",
          "data": {
            "image/png": "[encoded data removed]",
            "text/plain": [
              "<Figure size 576x432 with 1 Axes>"
            ]
          },
          "metadata": {
            "tags": [],
            "needs_background": "light"
          }
        }
      ]
    },
    {
      "cell_type": "code",
      "metadata": {
        "id": "2T5cB6z0Yyg3",
        "colab_type": "code",
        "colab": {
          "base_uri": "https://localhost:8080/",
          "height": 405
        },
        "outputId": "b4e0c950-bab1-44af-b518-7abfa8384d1b"
      },
      "source": [
        "# set size of the figure\n",
        "plt.figure(figsize=(8,6))\n",
        "\n",
        "# bar plot for  contacts\n",
        "sns.barplot(x='contact', y='duration', data=bank_full) "
      ],
      "execution_count": 176,
      "outputs": [
        {
          "output_type": "execute_result",
          "data": {
            "text/plain": [
              "<matplotlib.axes._subplots.AxesSubplot at 0x7f6d2ffeadd8>"
            ]
          },
          "metadata": {
            "tags": []
          },
          "execution_count": 176
        },
        {
          "output_type": "display_data",
          "data": {
            "image/png": "[encoded data removed]",
            "text/plain": [
              "<Figure size 576x432 with 1 Axes>"
            ]
          },
          "metadata": {
            "tags": [],
            "needs_background": "light"
          }
        }
      ]
    },
    {
      "cell_type": "code",
      "metadata": {
        "id": "aMJIa3C7hgQL",
        "colab_type": "code",
        "colab": {}
      },
      "source": [
        "bank_full['campaign_by_duration'] = (bank_full['campaign'] * bank_full['duration'])"
      ],
      "execution_count": 0,
      "outputs": []
    },
    {
      "cell_type": "code",
      "metadata": {
        "id": "vZ_NAuONbYl_",
        "colab_type": "code",
        "colab": {
          "base_uri": "https://localhost:8080/",
          "height": 386
        },
        "outputId": "481c3d3d-11f0-43c1-cc73-7fe7194d99aa"
      },
      "source": [
        "corr_matrix = bank_full.corr(method='pearson')\n",
        "corr_matrix['y'].abs().sort_values(ascending=False)"
      ],
      "execution_count": 235,
      "outputs": [
        {
          "output_type": "execute_result",
          "data": {
            "text/plain": [
              "y                              1.000000\n",
              "duration                       0.394521\n",
              "duration_per_day               0.231161\n",
              "campaign_by_duration           0.207921\n",
              "housing                        0.139173\n",
              "day_per_duration               0.122337\n",
              "pdays+previous_per_campaign    0.108437\n",
              "pdays+previous                 0.108437\n",
              "pdays-previous_per_campaign    0.106143\n",
              "pdays-previous                 0.106143\n",
              "pdays                          0.103621\n",
              "previous                       0.093236\n",
              "campaign_per_duration          0.079050\n",
              "campaign                       0.073172\n",
              "loan                           0.068185\n",
              "balance                        0.052838\n",
              "day_per_campaign               0.050953\n",
              "day                            0.028348\n",
              "age                            0.025155\n",
              "default                        0.022419\n",
              "balance_per_campaign           0.015558\n",
              "Name: y, dtype: float64"
            ]
          },
          "metadata": {
            "tags": []
          },
          "execution_count": 235
        }
      ]
    },
    {
      "cell_type": "markdown",
      "metadata": {
        "id": "5eBghA16Z1rn",
        "colab_type": "text"
      },
      "source": [
        "# DATA preprocessing"
      ]
    },
    {
      "cell_type": "code",
      "metadata": {
        "id": "rboASTlKLucG",
        "colab_type": "code",
        "colab": {
          "base_uri": "https://localhost:8080/",
          "height": 34
        },
        "outputId": "6121a52a-04f9-4ea2-c150-2d9b0a9e8cd3"
      },
      "source": [
        "[col for col in bank_full.select_dtypes(exclude='number').columns if bank_full[col].str.contains('unknown').sum()>0]"
      ],
      "execution_count": 159,
      "outputs": [
        {
          "output_type": "execute_result",
          "data": {
            "text/plain": [
              "['job', 'education', 'contact', 'poutcome']"
            ]
          },
          "metadata": {
            "tags": []
          },
          "execution_count": 159
        }
      ]
    },
    {
      "cell_type": "code",
      "metadata": {
        "id": "V1iIudyoGzbk",
        "colab_type": "code",
        "colab": {}
      },
      "source": [
        "def binary_to_int(df, drop_orginal=False):\n",
        "\n",
        "    # get all binary cols with yes and no\n",
        "    binary_col = [col for col in df.select_dtypes(exclude='number').columns if df[col].str.contains('yes').sum()>0 ]\n",
        "     \n",
        "    # convert binary to int, where yes =1 and no=0\n",
        "    for col in binary_col:\n",
        "      df['_'+col] = np.where(df[col] == 'yes', 1, 0, )\n",
        "\n",
        "    # if drop_orginal is True drop yes no cols else return dataframe with orginal cols\n",
        "    if drop_orginal:\n",
        "         df.drop(labels=binary_col, axis=1, inplace=True)\n",
        "         df.columns = df.columns.str.replace('_','')\n",
        "         return df\n",
        "\n",
        "    else:\n",
        "      return df"
      ],
      "execution_count": 0,
      "outputs": []
    },
    {
      "cell_type": "code",
      "metadata": {
        "id": "IvvpWFFGWmMr",
        "colab_type": "code",
        "colab": {
          "base_uri": "https://localhost:8080/",
          "height": 215
        },
        "outputId": "1d0085ea-481a-4819-e5e0-4798e3da791d"
      },
      "source": [
        "# Cast binary to int\n",
        "bank_full = binary_to_int(bank_full, drop_orginal=False)\n",
        "\n",
        "# view transformed columns\n",
        "bank_full.sample(5)"
      ],
      "execution_count": 165,
      "outputs": [
        {
          "output_type": "execute_result",
          "data": {
            "text/html": [
              "<div>\n",
              "<style scoped>\n",
              "    .dataframe tbody tr th:only-of-type {\n",
              "        vertical-align: middle;\n",
              "    }\n",
              "\n",
              "    .dataframe tbody tr th {\n",
              "        vertical-align: top;\n",
              "    }\n",
              "\n",
              "    .dataframe thead th {\n",
              "        text-align: right;\n",
              "    }\n",
              "</style>\n",
              "<table border=\"1\" class=\"dataframe\">\n",
              "  <thead>\n",
              "    <tr style=\"text-align: right;\">\n",
              "      <th></th>\n",
              "      <th>age</th>\n",
              "      <th>job</th>\n",
              "      <th>marital</th>\n",
              "      <th>education</th>\n",
              "      <th>balance</th>\n",
              "      <th>contact</th>\n",
              "      <th>day</th>\n",
              "      <th>month</th>\n",
              "      <th>duration</th>\n",
              "      <th>campaign</th>\n",
              "      <th>pdays</th>\n",
              "      <th>previous</th>\n",
              "      <th>poutcome</th>\n",
              "      <th>default</th>\n",
              "      <th>housing</th>\n",
              "      <th>loan</th>\n",
              "      <th>y</th>\n",
              "    </tr>\n",
              "  </thead>\n",
              "  <tbody>\n",
              "    <tr>\n",
              "      <th>4198</th>\n",
              "      <td>31</td>\n",
              "      <td>blue-collar</td>\n",
              "      <td>married</td>\n",
              "      <td>primary</td>\n",
              "      <td>2085</td>\n",
              "      <td>unknown</td>\n",
              "      <td>19</td>\n",
              "      <td>may</td>\n",
              "      <td>488</td>\n",
              "      <td>3</td>\n",
              "      <td>-1</td>\n",
              "      <td>0</td>\n",
              "      <td>unknown</td>\n",
              "      <td>0</td>\n",
              "      <td>1</td>\n",
              "      <td>1</td>\n",
              "      <td>0</td>\n",
              "    </tr>\n",
              "    <tr>\n",
              "      <th>24421</th>\n",
              "      <td>43</td>\n",
              "      <td>technician</td>\n",
              "      <td>married</td>\n",
              "      <td>secondary</td>\n",
              "      <td>0</td>\n",
              "      <td>cellular</td>\n",
              "      <td>17</td>\n",
              "      <td>nov</td>\n",
              "      <td>103</td>\n",
              "      <td>2</td>\n",
              "      <td>193</td>\n",
              "      <td>3</td>\n",
              "      <td>failure</td>\n",
              "      <td>0</td>\n",
              "      <td>0</td>\n",
              "      <td>1</td>\n",
              "      <td>0</td>\n",
              "    </tr>\n",
              "    <tr>\n",
              "      <th>30341</th>\n",
              "      <td>28</td>\n",
              "      <td>services</td>\n",
              "      <td>single</td>\n",
              "      <td>secondary</td>\n",
              "      <td>1820</td>\n",
              "      <td>cellular</td>\n",
              "      <td>5</td>\n",
              "      <td>feb</td>\n",
              "      <td>134</td>\n",
              "      <td>2</td>\n",
              "      <td>203</td>\n",
              "      <td>1</td>\n",
              "      <td>success</td>\n",
              "      <td>0</td>\n",
              "      <td>1</td>\n",
              "      <td>0</td>\n",
              "      <td>0</td>\n",
              "    </tr>\n",
              "    <tr>\n",
              "      <th>9921</th>\n",
              "      <td>38</td>\n",
              "      <td>housemaid</td>\n",
              "      <td>divorced</td>\n",
              "      <td>primary</td>\n",
              "      <td>359</td>\n",
              "      <td>unknown</td>\n",
              "      <td>9</td>\n",
              "      <td>jun</td>\n",
              "      <td>242</td>\n",
              "      <td>4</td>\n",
              "      <td>-1</td>\n",
              "      <td>0</td>\n",
              "      <td>unknown</td>\n",
              "      <td>0</td>\n",
              "      <td>0</td>\n",
              "      <td>0</td>\n",
              "      <td>0</td>\n",
              "    </tr>\n",
              "    <tr>\n",
              "      <th>14080</th>\n",
              "      <td>41</td>\n",
              "      <td>technician</td>\n",
              "      <td>married</td>\n",
              "      <td>secondary</td>\n",
              "      <td>-172</td>\n",
              "      <td>cellular</td>\n",
              "      <td>11</td>\n",
              "      <td>jul</td>\n",
              "      <td>132</td>\n",
              "      <td>2</td>\n",
              "      <td>-1</td>\n",
              "      <td>0</td>\n",
              "      <td>unknown</td>\n",
              "      <td>0</td>\n",
              "      <td>1</td>\n",
              "      <td>1</td>\n",
              "      <td>0</td>\n",
              "    </tr>\n",
              "  </tbody>\n",
              "</table>\n",
              "</div>"
            ],
            "text/plain": [
              "       age          job   marital  education  ...  default housing  loan  y\n",
              "4198    31  blue-collar   married    primary  ...        0       1     1  0\n",
              "24421   43   technician   married  secondary  ...        0       0     1  0\n",
              "30341   28     services    single  secondary  ...        0       1     0  0\n",
              "9921    38    housemaid  divorced    primary  ...        0       0     0  0\n",
              "14080   41   technician   married  secondary  ...        0       1     1  0\n",
              "\n",
              "[5 rows x 17 columns]"
            ]
          },
          "metadata": {
            "tags": []
          },
          "execution_count": 165
        }
      ]
    },
    {
      "cell_type": "code",
      "metadata": {
        "id": "0KVP1_qoYga8",
        "colab_type": "code",
        "colab": {
          "base_uri": "https://localhost:8080/",
          "height": 319
        },
        "outputId": "17a99f9d-e8ed-4f10-ccea-0f8342fc8a18"
      },
      "source": [
        "bank_full.dtypes"
      ],
      "execution_count": 167,
      "outputs": [
        {
          "output_type": "execute_result",
          "data": {
            "text/plain": [
              "age           int64\n",
              "job          object\n",
              "marital      object\n",
              "education    object\n",
              "balance       int64\n",
              "contact      object\n",
              "day           int64\n",
              "month        object\n",
              "duration      int64\n",
              "campaign      int64\n",
              "pdays         int64\n",
              "previous      int64\n",
              "poutcome     object\n",
              "default       int64\n",
              "housing       int64\n",
              "loan          int64\n",
              "y             int64\n",
              "dtype: object"
            ]
          },
          "metadata": {
            "tags": []
          },
          "execution_count": 167
        }
      ]
    },
    {
      "cell_type": "code",
      "metadata": {
        "id": "qZ7WMNganRp2",
        "colab_type": "code",
        "colab": {
          "base_uri": "https://localhost:8080/",
          "height": 34
        },
        "outputId": "4f412b57-05db-4f8a-cf00-93e2483321e6"
      },
      "source": [
        "# separate the target from predictors\n",
        "X = bank_full.drop('y', axis=1)\n",
        "y = bank_full.y\n",
        "\n",
        "# split data into train test\n",
        "X_train, X_val, y_train, y_val = train_test_split(X, y, test_size=0.30, random_state=1996)\n",
        "\n",
        "# view dimension of train and validation\n",
        "X_train.shape, X_val.shape, y_train.shape, y_val.shape"
      ],
      "execution_count": 166,
      "outputs": [
        {
          "output_type": "execute_result",
          "data": {
            "text/plain": [
              "((31647, 16), (13564, 16), (31647,), (13564,))"
            ]
          },
          "metadata": {
            "tags": []
          },
          "execution_count": 166
        }
      ]
    },
    {
      "cell_type": "markdown",
      "metadata": {
        "id": "C5u9P2-bZ7R9",
        "colab_type": "text"
      },
      "source": [
        "# Feature Engineering"
      ]
    },
    {
      "cell_type": "code",
      "metadata": {
        "id": "0lLKY-R1maZv",
        "colab_type": "code",
        "colab": {}
      },
      "source": [
        "# define the SelectKBest class instance\n",
        "kbest =  SelectKBest(score_func=chi2, k=10)\n",
        "\n",
        "# fit data \n"
      ],
      "execution_count": 0,
      "outputs": []
    },
    {
      "cell_type": "markdown",
      "metadata": {
        "id": "mdUSDIGCaGMM",
        "colab_type": "text"
      },
      "source": [
        "# Modeling"
      ]
    }
  ]
}