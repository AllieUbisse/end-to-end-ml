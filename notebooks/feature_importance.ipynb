{
  "nbformat": 4,
  "nbformat_minor": 0,
  "metadata": {
    "colab": {
      "name": "feature_importance.ipynb",
      "provenance": [],
      "collapsed_sections": [],
      "toc_visible": true,
      "authorship_tag": "ABX9TyMBPv+JeRKGVOOoKabItK9c",
      "include_colab_link": true
    },
    "kernelspec": {
      "name": "python3",
      "display_name": "Python 3"
    }
  },
  "cells": [
    {
      "cell_type": "markdown",
      "metadata": {
        "id": "view-in-github",
        "colab_type": "text"
      },
      "source": [
        "<a href=\"https://colab.research.google.com/github/AllieUbisse/end-to-end-ml/blob/master/notebooks/feature_importance.ipynb\" target=\"_parent\"><img src=\"https://colab.research.google.com/assets/colab-badge.svg\" alt=\"Open In Colab\"/></a>"
      ]
    },
    {
      "cell_type": "markdown",
      "metadata": {
        "id": "PI-6gHDEmNUM",
        "colab_type": "text"
      },
      "source": [
        "# Tutorial Overview\n",
        "This tutorial is divided into five parts; they are:\n",
        "\n",
        "- Feature Importance\n",
        "- Preparation\n",
        "    - Check Scikit-Learn Version\n",
        "    - Test Datasets\n",
        "-Coefficients as Feature Importance\n",
        "    - Linear Regression Feature Importance\n",
        "    - Logistic Regression Feature Importance\n",
        "- Decision Tree Feature Importance\n",
        "    - CART Feature Importance\n",
        "    - Random Forest Feature Importance\n",
        "    - XGBoost Feature Importance\n",
        "- Permutation Feature Importance\n",
        "    - Permutation Feature Importance for Regression\n",
        "    - Permutation Feature Importance for Classification\n",
        "\n",
        "**Feature Importance**\n",
        "\n",
        "\n",
        "[Feature importance](https://machinelearningmastery.com/calculate-feature-importance-with-python/) *refers to a class of techniques for assigning scores to input features to a predictive model that indicates the relative importance of each feature when making a prediction.*\n",
        "\n",
        "\n",
        "Feature importance scores can be calculated for problems that involve predicting a numerical value, called regression, and those problems that involve predicting a class label, called classification.\n",
        "\n",
        "\n",
        "**The scores are useful and can be used in a range of situations in a predictive modeling problem, such as:**\n",
        "\n",
        "- Better understanding the data.\n",
        "- Better understanding a model.\n",
        "- Reducing the number of input features.\n",
        "\n",
        "\n",
        "\n",
        "**These examples might be selective but just know is can be done for both classifiction and regression problems**"
      ]
    },
    {
      "cell_type": "markdown",
      "metadata": {
        "id": "GfVkMKROnR6T",
        "colab_type": "text"
      },
      "source": [
        "# imports"
      ]
    },
    {
      "cell_type": "code",
      "metadata": {
        "id": "OhkRat9mlh7x",
        "colab_type": "code",
        "colab": {}
      },
      "source": [
        "import pandas as pd\n",
        "import numpy as np\n",
        "\n",
        "from matplotlib import pyplot as plt\n",
        "\n",
        "# datasets\n",
        "from sklearn.datasets import make_regression, make_classification\n",
        "\n",
        "# models\n",
        "from sklearn.tree import DecisionTreeClassifier\n",
        "from sklearn.linear_model import LinearRegression\n",
        "from sklearn.linear_model import LogisticRegression\n",
        "from sklearn.ensemble import RandomForestClassifier, RandomForestRegressor\n",
        "from xgboost import XGBClassifier, XGBRegressor\n",
        "from sklearn.neighbors import KNeighborsRegressor\n",
        "from sklearn.inspection import permutation_importance"
      ],
      "execution_count": 0,
      "outputs": []
    },
    {
      "cell_type": "markdown",
      "metadata": {
        "id": "rPbS6OTLqpY1",
        "colab_type": "text"
      },
      "source": [
        "# Datasets \n",
        "\n",
        "The dataset will have **1000 observations**, with **10 features**, 5 of which will be informative and the remaining 5 will be redundant.\n",
        "\n",
        "We will fix the random number seed to ensure we get the same examples each time the code is run."
      ]
    },
    {
      "cell_type": "markdown",
      "metadata": {
        "id": "qKQZXVp_yfDg",
        "colab_type": "text"
      },
      "source": [
        "## Classification Dataset\n",
        "\n",
        "- **X_c** for Classification **features**\n",
        "- **y_c** for Classification **label / Target**"
      ]
    },
    {
      "cell_type": "code",
      "metadata": {
        "id": "44Ah5SsfqugZ",
        "colab_type": "code",
        "colab": {
          "base_uri": "https://localhost:8080/",
          "height": 34
        },
        "outputId": "fe6f5b14-e333-4049-a2ce-eff975780075"
      },
      "source": [
        "#  Dataset for a classification problem\n",
        "X_c, y_c = make_classification(n_samples=1000, n_features=10, n_informative=5, n_redundant=5, random_state=1)\n",
        "\n",
        "# viewing the shapes of x and y\n",
        "X_c.shape, y_c.shape\n"
      ],
      "execution_count": 79,
      "outputs": [
        {
          "output_type": "execute_result",
          "data": {
            "text/plain": [
              "((1000, 10), (1000,))"
            ]
          },
          "metadata": {
            "tags": []
          },
          "execution_count": 79
        }
      ]
    },
    {
      "cell_type": "code",
      "metadata": {
        "id": "ZBS1S6mCsCA7",
        "colab_type": "code",
        "colab": {
          "base_uri": "https://localhost:8080/",
          "height": 195
        },
        "outputId": "684b731d-a12a-4a37-8554-973a699eab38"
      },
      "source": [
        "# convert x_c to dataframe and view the 1st 5 rows of x_c\n",
        "X_c = pd.DataFrame(X_c, columns=[f'X_clf_'+ str(x + 1)  for x in range(10)])\n",
        "X_c.head()"
      ],
      "execution_count": 80,
      "outputs": [
        {
          "output_type": "execute_result",
          "data": {
            "text/html": [
              "<div>\n",
              "<style scoped>\n",
              "    .dataframe tbody tr th:only-of-type {\n",
              "        vertical-align: middle;\n",
              "    }\n",
              "\n",
              "    .dataframe tbody tr th {\n",
              "        vertical-align: top;\n",
              "    }\n",
              "\n",
              "    .dataframe thead th {\n",
              "        text-align: right;\n",
              "    }\n",
              "</style>\n",
              "<table border=\"1\" class=\"dataframe\">\n",
              "  <thead>\n",
              "    <tr style=\"text-align: right;\">\n",
              "      <th></th>\n",
              "      <th>X_clf_1</th>\n",
              "      <th>X_clf_2</th>\n",
              "      <th>X_clf_3</th>\n",
              "      <th>X_clf_4</th>\n",
              "      <th>X_clf_5</th>\n",
              "      <th>X_clf_6</th>\n",
              "      <th>X_clf_7</th>\n",
              "      <th>X_clf_8</th>\n",
              "      <th>X_clf_9</th>\n",
              "      <th>X_clf_10</th>\n",
              "    </tr>\n",
              "  </thead>\n",
              "  <tbody>\n",
              "    <tr>\n",
              "      <th>0</th>\n",
              "      <td>2.569995</td>\n",
              "      <td>-0.130200</td>\n",
              "      <td>3.160751</td>\n",
              "      <td>-4.359364</td>\n",
              "      <td>-1.612720</td>\n",
              "      <td>-1.393521</td>\n",
              "      <td>-2.489249</td>\n",
              "      <td>-1.930941</td>\n",
              "      <td>3.261304</td>\n",
              "      <td>2.056921</td>\n",
              "    </tr>\n",
              "    <tr>\n",
              "      <th>1</th>\n",
              "      <td>0.341293</td>\n",
              "      <td>2.513214</td>\n",
              "      <td>-0.804166</td>\n",
              "      <td>1.291966</td>\n",
              "      <td>2.057731</td>\n",
              "      <td>-3.110983</td>\n",
              "      <td>1.465830</td>\n",
              "      <td>6.247344</td>\n",
              "      <td>-1.927694</td>\n",
              "      <td>2.950315</td>\n",
              "    </tr>\n",
              "    <tr>\n",
              "      <th>2</th>\n",
              "      <td>2.275400</td>\n",
              "      <td>3.365615</td>\n",
              "      <td>0.171644</td>\n",
              "      <td>1.248620</td>\n",
              "      <td>0.302498</td>\n",
              "      <td>-1.137814</td>\n",
              "      <td>-1.608199</td>\n",
              "      <td>2.746938</td>\n",
              "      <td>0.134924</td>\n",
              "      <td>2.003395</td>\n",
              "    </tr>\n",
              "    <tr>\n",
              "      <th>3</th>\n",
              "      <td>0.357846</td>\n",
              "      <td>0.905176</td>\n",
              "      <td>-0.259241</td>\n",
              "      <td>0.930414</td>\n",
              "      <td>0.112336</td>\n",
              "      <td>0.143484</td>\n",
              "      <td>-0.367149</td>\n",
              "      <td>0.658955</td>\n",
              "      <td>-0.269128</td>\n",
              "      <td>0.155807</td>\n",
              "    </tr>\n",
              "    <tr>\n",
              "      <th>4</th>\n",
              "      <td>-2.722477</td>\n",
              "      <td>0.324236</td>\n",
              "      <td>2.906472</td>\n",
              "      <td>-0.021218</td>\n",
              "      <td>-2.867399</td>\n",
              "      <td>1.591744</td>\n",
              "      <td>0.620849</td>\n",
              "      <td>3.383528</td>\n",
              "      <td>0.945621</td>\n",
              "      <td>3.498071</td>\n",
              "    </tr>\n",
              "  </tbody>\n",
              "</table>\n",
              "</div>"
            ],
            "text/plain": [
              "    X_clf_1   X_clf_2   X_clf_3  ...   X_clf_8   X_clf_9  X_clf_10\n",
              "0  2.569995 -0.130200  3.160751  ... -1.930941  3.261304  2.056921\n",
              "1  0.341293  2.513214 -0.804166  ...  6.247344 -1.927694  2.950315\n",
              "2  2.275400  3.365615  0.171644  ...  2.746938  0.134924  2.003395\n",
              "3  0.357846  0.905176 -0.259241  ...  0.658955 -0.269128  0.155807\n",
              "4 -2.722477  0.324236  2.906472  ...  3.383528  0.945621  3.498071\n",
              "\n",
              "[5 rows x 10 columns]"
            ]
          },
          "metadata": {
            "tags": []
          },
          "execution_count": 80
        }
      ]
    },
    {
      "cell_type": "markdown",
      "metadata": {
        "id": "s4TFVX49ynIW",
        "colab_type": "text"
      },
      "source": [
        "## Regression Dataset\n",
        "\n",
        "- **X_r** for regression **features**\n",
        "- **y_r** for regression **label / Target**"
      ]
    },
    {
      "cell_type": "code",
      "metadata": {
        "id": "UM2zLutUyqME",
        "colab_type": "code",
        "colab": {
          "base_uri": "https://localhost:8080/",
          "height": 34
        },
        "outputId": "ec253549-03fa-42a8-f280-f826bda7514d"
      },
      "source": [
        "#  Dataset for a Regression problem\n",
        "X_r, y_r = make_regression(n_samples=1000, n_features=10, n_informative=5, random_state=1)\n",
        "\n",
        "# viewing the shapes of x and y\n",
        "X_r.shape, y_r.shape"
      ],
      "execution_count": 77,
      "outputs": [
        {
          "output_type": "execute_result",
          "data": {
            "text/plain": [
              "((1000, 10), (1000,))"
            ]
          },
          "metadata": {
            "tags": []
          },
          "execution_count": 77
        }
      ]
    },
    {
      "cell_type": "code",
      "metadata": {
        "id": "lyyZR_cby2rG",
        "colab_type": "code",
        "colab": {
          "base_uri": "https://localhost:8080/",
          "height": 195
        },
        "outputId": "6f32d4ee-e650-42a1-b424-bee8b975cae5"
      },
      "source": [
        "# convert x_r to dataframe and view the 1st 5 rows of x_r\n",
        "X_r = pd.DataFrame(X_r, columns=[f'X_reg_'+ str(x + 1)  for x in range(10)])\n",
        "X_r.head()"
      ],
      "execution_count": 78,
      "outputs": [
        {
          "output_type": "execute_result",
          "data": {
            "text/html": [
              "<div>\n",
              "<style scoped>\n",
              "    .dataframe tbody tr th:only-of-type {\n",
              "        vertical-align: middle;\n",
              "    }\n",
              "\n",
              "    .dataframe tbody tr th {\n",
              "        vertical-align: top;\n",
              "    }\n",
              "\n",
              "    .dataframe thead th {\n",
              "        text-align: right;\n",
              "    }\n",
              "</style>\n",
              "<table border=\"1\" class=\"dataframe\">\n",
              "  <thead>\n",
              "    <tr style=\"text-align: right;\">\n",
              "      <th></th>\n",
              "      <th>X_reg_1</th>\n",
              "      <th>X_reg_2</th>\n",
              "      <th>X_reg_3</th>\n",
              "      <th>X_reg_4</th>\n",
              "      <th>X_reg_5</th>\n",
              "      <th>X_reg_6</th>\n",
              "      <th>X_reg_7</th>\n",
              "      <th>X_reg_8</th>\n",
              "      <th>X_reg_9</th>\n",
              "      <th>X_reg_10</th>\n",
              "    </tr>\n",
              "  </thead>\n",
              "  <tbody>\n",
              "    <tr>\n",
              "      <th>0</th>\n",
              "      <td>-2.022201</td>\n",
              "      <td>0.315635</td>\n",
              "      <td>0.827975</td>\n",
              "      <td>-0.306204</td>\n",
              "      <td>0.160037</td>\n",
              "      <td>-1.444114</td>\n",
              "      <td>0.876169</td>\n",
              "      <td>-0.504466</td>\n",
              "      <td>0.230095</td>\n",
              "      <td>0.762011</td>\n",
              "    </tr>\n",
              "    <tr>\n",
              "      <th>1</th>\n",
              "      <td>0.712562</td>\n",
              "      <td>1.741039</td>\n",
              "      <td>-1.214665</td>\n",
              "      <td>0.385692</td>\n",
              "      <td>-0.809715</td>\n",
              "      <td>-0.550694</td>\n",
              "      <td>-0.051473</td>\n",
              "      <td>1.041311</td>\n",
              "      <td>-0.758506</td>\n",
              "      <td>0.747916</td>\n",
              "    </tr>\n",
              "    <tr>\n",
              "      <th>2</th>\n",
              "      <td>0.083389</td>\n",
              "      <td>0.928290</td>\n",
              "      <td>1.451679</td>\n",
              "      <td>-0.424983</td>\n",
              "      <td>-0.300931</td>\n",
              "      <td>0.189199</td>\n",
              "      <td>0.251310</td>\n",
              "      <td>1.223936</td>\n",
              "      <td>0.341689</td>\n",
              "      <td>-0.125173</td>\n",
              "    </tr>\n",
              "    <tr>\n",
              "      <th>3</th>\n",
              "      <td>-0.376360</td>\n",
              "      <td>1.694051</td>\n",
              "      <td>0.397112</td>\n",
              "      <td>-0.919975</td>\n",
              "      <td>-0.362023</td>\n",
              "      <td>0.472427</td>\n",
              "      <td>0.876808</td>\n",
              "      <td>0.661291</td>\n",
              "      <td>-0.072041</td>\n",
              "      <td>0.205317</td>\n",
              "    </tr>\n",
              "    <tr>\n",
              "      <th>4</th>\n",
              "      <td>0.237884</td>\n",
              "      <td>-1.045509</td>\n",
              "      <td>-1.087603</td>\n",
              "      <td>-0.792266</td>\n",
              "      <td>-0.206058</td>\n",
              "      <td>0.620718</td>\n",
              "      <td>-0.683158</td>\n",
              "      <td>-2.095867</td>\n",
              "      <td>-0.583576</td>\n",
              "      <td>-1.544487</td>\n",
              "    </tr>\n",
              "  </tbody>\n",
              "</table>\n",
              "</div>"
            ],
            "text/plain": [
              "    X_reg_1   X_reg_2   X_reg_3  ...   X_reg_8   X_reg_9  X_reg_10\n",
              "0 -2.022201  0.315635  0.827975  ... -0.504466  0.230095  0.762011\n",
              "1  0.712562  1.741039 -1.214665  ...  1.041311 -0.758506  0.747916\n",
              "2  0.083389  0.928290  1.451679  ...  1.223936  0.341689 -0.125173\n",
              "3 -0.376360  1.694051  0.397112  ...  0.661291 -0.072041  0.205317\n",
              "4  0.237884 -1.045509 -1.087603  ... -2.095867 -0.583576 -1.544487\n",
              "\n",
              "[5 rows x 10 columns]"
            ]
          },
          "metadata": {
            "tags": []
          },
          "execution_count": 78
        }
      ]
    },
    {
      "cell_type": "markdown",
      "metadata": {
        "id": "qnXYrMvMC443",
        "colab_type": "text"
      },
      "source": [
        "# custom functions to visualize the feature importance\n",
        "\n"
      ]
    },
    {
      "cell_type": "code",
      "metadata": {
        "id": "7zkJXK8bDVwo",
        "colab_type": "code",
        "colab": {}
      },
      "source": [
        "def show_feature_importance(importance, X, model_type):\n",
        "   \n",
        "      for feature, score in enumerate(importance):\n",
        "          print(f'Feature {feature+1} : {score} ')\n",
        "        \n",
        "      \n",
        "      # plot the feature inportance\n",
        "      plt.bar([x for x in X.columns], importance)\n",
        "\n",
        "      # set labels\n",
        "      plt.title(f'Feature importance using {model_type}')\n",
        "      plt.xlabel('features')\n",
        "      plt.xticks(rotation=75)\n",
        "      plt.ylabel('Importance score')\n",
        "\n",
        "      # display the plot\n",
        "      plt.show()"
      ],
      "execution_count": 0,
      "outputs": []
    },
    {
      "cell_type": "markdown",
      "metadata": {
        "id": "ayWdI3I40VvD",
        "colab_type": "text"
      },
      "source": [
        "# Coefficients as Feature Importance\n",
        "\n",
        "Linear machine learning algorithms fit a model where the prediction is the weighted sum of the input values.\n",
        "\n",
        "- Examples include **linear regression**, **logistic regression**, and extensions that add regularization, such as **ridge regression** and the **elastic net**.\n",
        "\n",
        "\n",
        "- All of these algorithms find a **set of coefficients** to use in the weighted sum in order to make a prediction. These coefficients can be used directly as a crude type of **feature importance score.**"
      ]
    },
    {
      "cell_type": "markdown",
      "metadata": {
        "id": "zKN7Va0XpxGU",
        "colab_type": "text"
      },
      "source": [
        "## Regression Feature importance\n",
        "\n",
        "- We can fit a LinearRegression model on the regression dataset and retrieve the **coeff_**  *property* that contains the coefficients found for each input variable.\n",
        "\n",
        "- These **coefficients** can provide the basis for a crude **feature importance score**. This **assumes** that the input variables have the **same scale or have been scaled prior to fitting a model.**"
      ]
    },
    {
      "cell_type": "code",
      "metadata": {
        "id": "3wzrwqzbqFJp",
        "colab_type": "code",
        "colab": {
          "base_uri": "https://localhost:8080/",
          "height": 500
        },
        "outputId": "abf638ca-e06c-4057-c9d1-a5626850f7e7"
      },
      "source": [
        "# define the linear regression model instance\n",
        "lin_reg =  LinearRegression()\n",
        "\n",
        "# fit the model with the X_r and y_r dataset\n",
        "lin_reg.fit(X_r,y_r)\n",
        "\n",
        "# get importance by retrieving the coefficients \n",
        "importance = lin_reg.coef_\n",
        "\n",
        "# summary of feature importance\n",
        "show_feature_importance(importance, X_r, 'Regression model')"
      ],
      "execution_count": 103,
      "outputs": [
        {
          "output_type": "stream",
          "text": [
            "Feature 1 : -2.782282462456991e-14 \n",
            "Feature 2 : 12.444827855389741 \n",
            "Feature 3 : -2.3092638912203256e-14 \n",
            "Feature 4 : -2.3314683517128287e-14 \n",
            "Feature 5 : 93.32225450776932 \n",
            "Feature 6 : 86.50810998606806 \n",
            "Feature 7 : 26.746066698034518 \n",
            "Feature 8 : 3.2853463982621425 \n",
            "Feature 9 : -2.4868995751603507e-14 \n",
            "Feature 10 : 3.108624468950438e-14 \n"
          ],
          "name": "stdout"
        },
        {
          "output_type": "display_data",
          "data": {
            "image/png": "[encoded data removed]",
            "text/plain": [
              "<Figure size 432x288 with 1 Axes>"
            ]
          },
          "metadata": {
            "tags": []
          }
        }
      ]
    },
    {
      "cell_type": "markdown",
      "metadata": {
        "id": "99tx5BHJ5eyn",
        "colab_type": "text"
      },
      "source": [
        "**Reports the coefficient value for each feature:**\n",
        "\n",
        "- The scores suggest that the model found the **5 important features**.\n",
        "- Then marked all other features with a **zero coefficient**, essentially removing them from the model."
      ]
    },
    {
      "cell_type": "markdown",
      "metadata": {
        "id": "fnTELtxvp4P7",
        "colab_type": "text"
      },
      "source": [
        "## classification Feature Importance"
      ]
    },
    {
      "cell_type": "markdown",
      "metadata": {
        "id": "ShrxmF7gAmZO",
        "colab_type": "text"
      },
      "source": [
        "### **Logistic Regression Feature Importance for classification**\n",
        "\n",
        "- We can fit a **LogisticRegression** model on the regression dataset and retrieve the **coeff_** property that contains the coefficients found for each input variable.\n",
        "\n",
        "- These coefficients can provide the basis for a crude feature importance score. \n",
        "- This assumes that the **input variables** have the **same scale** or have been **scaled prior to fitting a model**.\n"
      ]
    },
    {
      "cell_type": "code",
      "metadata": {
        "id": "66MkPmg3A_wG",
        "colab_type": "code",
        "colab": {
          "base_uri": "https://localhost:8080/",
          "height": 496
        },
        "outputId": "80b0eecd-c723-4074-aec5-dc89fb863136"
      },
      "source": [
        "# define the logistic regression model instance for classification\n",
        "log_clf = LogisticRegression()\n",
        "\n",
        "# fit the model with x_c and y_c for classification dataset\n",
        "log_clf.fit(X_c, y_c)\n",
        "\n",
        "# get importance\n",
        "log_reg_importance = log_clf.coef_[0]\n",
        "\n",
        "# show summary of feature importance\n",
        "show_feature_importance(log_reg_importance, X_c, 'logistic regression for classification')"
      ],
      "execution_count": 104,
      "outputs": [
        {
          "output_type": "stream",
          "text": [
            "Feature 1 : 0.16319742265326478 \n",
            "Feature 2 : -0.6430145358815721 \n",
            "Feature 3 : 0.4849664987788699 \n",
            "Feature 4 : -0.46189527029357874 \n",
            "Feature 5 : 0.1843177707945146 \n",
            "Feature 6 : -0.1197809769659298 \n",
            "Feature 7 : -0.40602039913269794 \n",
            "Feature 8 : 0.037718813935295366 \n",
            "Feature 9 : -0.5178542284781591 \n",
            "Feature 10 : 0.2653987129506489 \n"
          ],
          "name": "stdout"
        },
        {
          "output_type": "display_data",
          "data": {
            "image/png": "[encoded data removed]",
            "text/plain": [
              "<Figure size 432x288 with 1 Axes>"
            ]
          },
          "metadata": {
            "tags": []
          }
        }
      ]
    },
    {
      "cell_type": "markdown",
      "metadata": {
        "id": "aYK1EfU2H-vB",
        "colab_type": "text"
      },
      "source": [
        "**Report**\n",
        "\n",
        "Some importance scores are negative and some are positive, hence it's a classification problem so,\n",
        "- **Positive  Score:**  indicate a feature that predicts **class 1**\n",
        "- **Negative  Score:** indicate a feature that predicts **class 0**\n",
        "- **No clear** pattern of **important** and **unimportant features** can be identified from the above results, at least from what I can tell"
      ]
    },
    {
      "cell_type": "markdown",
      "metadata": {
        "id": "mXzwVyZELcTW",
        "colab_type": "text"
      },
      "source": [
        "### **CART Classification Feature Importance**\n",
        "\n",
        "The example of fitting a **DecisionTreeClassifier** and summarizing the calculated feature importance scores.\n",
        "\n",
        "- We can use the CART algorithm for feature importance implemented in scikit-learn.tree as the **DecisionTreeClassifier** classes.\n",
        "\n",
        "- After being fit, the model provides a **feature_importances_** property that can be accessed to retrieve the relative importance scores for each input feature.\n",
        "\n",
        "***Let’s take a look at an example of this for classification.***"
      ]
    },
    {
      "cell_type": "code",
      "metadata": {
        "id": "TVYB8LRtpumP",
        "colab_type": "code",
        "colab": {
          "base_uri": "https://localhost:8080/",
          "height": 496
        },
        "outputId": "971f2fb3-5d7a-4562-e786-8fc27bd257ba"
      },
      "source": [
        "# define the DecisionTreeClassifier instance\n",
        "tree_clf = DecisionTreeClassifier()\n",
        "\n",
        "# fit the model with X_c and y_c for classification dataset\n",
        "tree_clf.fit(X_c, y_c)\n",
        "\n",
        "# get importance\n",
        "tree_clf_importance = tree_clf.feature_importances_\n",
        "\n",
        "# summary of feature importance\n",
        "show_feature_importance(tree_clf_importance, X_c, 'DecisionTreeClassifier')"
      ],
      "execution_count": 108,
      "outputs": [
        {
          "output_type": "stream",
          "text": [
            "Feature 1 : 0.023371340626075376 \n",
            "Feature 2 : 0.0036238281277542763 \n",
            "Feature 3 : 0.18714484410334017 \n",
            "Feature 4 : 0.30979743520331277 \n",
            "Feature 5 : 0.0969634800102134 \n",
            "Feature 6 : 0.009614263894065823 \n",
            "Feature 7 : 0.16795155925817723 \n",
            "Feature 8 : 0.036603214995131056 \n",
            "Feature 9 : 0.13524975593114583 \n",
            "Feature 10 : 0.029680277850784125 \n"
          ],
          "name": "stdout"
        },
        {
          "output_type": "display_data",
          "data": {
            "image/png": "[encoded data removed]",
            "text/plain": [
              "<Figure size 432x288 with 1 Axes>"
            ]
          },
          "metadata": {
            "tags": []
          }
        }
      ]
    },
    {
      "cell_type": "markdown",
      "metadata": {
        "id": "IwUcx65ZNfkX",
        "colab_type": "text"
      },
      "source": [
        "**Report**\n",
        "\n",
        "Note - we check how closer to **1** is the immportance score.\n",
        "\n",
        "- The model found 4 features being important with 0.1 > score\n",
        "- The rest were least important to this model.\n"
      ]
    },
    {
      "cell_type": "markdown",
      "metadata": {
        "id": "6ySs6IsUQO29",
        "colab_type": "text"
      },
      "source": [
        "### **Random Forest Classification Feature Importance**\n",
        "\n",
        "fitting a **RandomForestClassifier** and summarizing the calculated feature importance scores.\n",
        "\n",
        "- We can use the Random Forest algorithm for feature importance implemented in **scikit-learn** as the **RandomForestClassifier classes**.\n",
        "\n",
        "- After being fit, the model provides a **feature_importances_** property that can be accessed to retrieve the relative importance scores for each input feature.\n",
        "\n",
        "- This approach can also be used with the **bagging** and **extra trees algorithms**."
      ]
    },
    {
      "cell_type": "code",
      "metadata": {
        "id": "0DpR6SK5X9KF",
        "colab_type": "code",
        "colab": {
          "base_uri": "https://localhost:8080/",
          "height": 496
        },
        "outputId": "296b4842-9da1-468f-8635-5c150e75b269"
      },
      "source": [
        "# define the random forest cassifier instance\n",
        "rf_clf = RandomForestClassifier()\n",
        "\n",
        "# fit the model with X_c and y_c dataset for classification problem\n",
        "rf_clf.fit(X_c, y_c)\n",
        "\n",
        "# get importance\n",
        "rf_clf_importance = rf_clf.feature_importances_\n",
        "\n",
        "# show summary of feature importane\n",
        "show_feature_importance(rf_clf_importance, X_c, 'RandomForestClassifier')"
      ],
      "execution_count": 113,
      "outputs": [
        {
          "output_type": "stream",
          "text": [
            "Feature 1 : 0.06647391947897288 \n",
            "Feature 2 : 0.11240270429230018 \n",
            "Feature 3 : 0.1602466938549085 \n",
            "Feature 4 : 0.1859268408487944 \n",
            "Feature 5 : 0.07968460600757452 \n",
            "Feature 6 : 0.11673160446859134 \n",
            "Feature 7 : 0.09846011725129591 \n",
            "Feature 8 : 0.051931902703150803 \n",
            "Feature 9 : 0.08444048607436896 \n",
            "Feature 10 : 0.043701125020042496 \n"
          ],
          "name": "stdout"
        },
        {
          "output_type": "display_data",
          "data": {
            "image/png": "[encoded data removed]",
            "text/plain": [
              "<Figure size 432x288 with 1 Axes>"
            ]
          },
          "metadata": {
            "tags": []
          }
        }
      ]
    },
    {
      "cell_type": "markdown",
      "metadata": {
        "id": "mnuX8xiKZLcE",
        "colab_type": "text"
      },
      "source": [
        "**Reports**\n",
        "\n",
        "- The results suggest 2 or 3 of the 10 features as being important to prediction.\n"
      ]
    },
    {
      "cell_type": "markdown",
      "metadata": {
        "id": "iiHf3RzjWTV-",
        "colab_type": "text"
      },
      "source": [
        "### **XGBoost Classification Feature Importance**\n",
        "fitting an XGBClassifier and summarizing the calculated feature importance scores.\n",
        "\n",
        "- XGBoost is a library that provides an efficient and effective implementation of the stochastic gradient boosting algorithm.\n",
        "\n",
        "- This algorithm can be used with scikit-learn via the XGBRegressor and XGBClassifier classes.\n",
        "\n",
        "- After being fit, the model provides a **feature_importances_** property that can be accessed to retrieve the relative importance scores for each input feature.\n",
        "\n",
        "- This algorithm is also provided via scikit-learn via the **GradientBoostingClassifier** and **GradientBoostingRegressor classes** and the **same approach to feature selection** can be used.\n",
        "\n",
        "- **First, install the XGBoost library, such as with pip**:\n",
        "```python\n",
        "pip install xgboost\n",
        "```\n",
        "\n",
        "\n",
        "**The next example is based on classification (GradientBoostingClassifier)**"
      ]
    },
    {
      "cell_type": "code",
      "metadata": {
        "id": "0KfYhZYxQUB2",
        "colab_type": "code",
        "colab": {
          "base_uri": "https://localhost:8080/",
          "height": 496
        },
        "outputId": "c19a1825-e1f6-418a-c964-f0d31c21ce72"
      },
      "source": [
        "# define the XGBClassifier\n",
        "xgb_clf = XGBClassifier()\n",
        "\n",
        "# fit the model with X_c and y_c dataset for classification problem\n",
        "xgb_clf.fit(X_c, y_c)\n",
        "\n",
        "# get importance\n",
        "xgb_clf_importance = xgb_clf.feature_importances_\n",
        "\n",
        "# summary for feature importance\n",
        "show_feature_importance(xgb_clf_importance, X_c, 'XGBClassifier')"
      ],
      "execution_count": 112,
      "outputs": [
        {
          "output_type": "stream",
          "text": [
            "Feature 1 : 0.024640509858727455 \n",
            "Feature 2 : 0.08152605593204498 \n",
            "Feature 3 : 0.12516480684280396 \n",
            "Feature 4 : 0.2840004861354828 \n",
            "Feature 5 : 0.12694063782691956 \n",
            "Feature 6 : 0.10751913487911224 \n",
            "Feature 7 : 0.08624178171157837 \n",
            "Feature 8 : 0.04819878563284874 \n",
            "Feature 9 : 0.09356743097305298 \n",
            "Feature 10 : 0.022200465202331543 \n"
          ],
          "name": "stdout"
        },
        {
          "output_type": "display_data",
          "data": {
            "image/png": "[encoded data removed]",
            "text/plain": [
              "<Figure size 432x288 with 1 Axes>"
            ]
          },
          "metadata": {
            "tags": []
          }
        }
      ]
    },
    {
      "cell_type": "markdown",
      "metadata": {
        "id": "ismJNJkqU2SP",
        "colab_type": "text"
      },
      "source": [
        "**Report**\n",
        "\n",
        "- The model found 5 best features and overall 7 features being important\n",
        "- from **x_clf_2** to **X_clf_7** and **X_clf_9** we added **x_clf_2** and **X_clf_7** since they are 0.05 > "
      ]
    },
    {
      "cell_type": "markdown",
      "metadata": {
        "id": "45lFJhCZZv7n",
        "colab_type": "text"
      },
      "source": [
        "## Permutation Feature Importance\n",
        "> Permutation feature importance is a technique for calculating relative importance scores that is independent of the model used.\n",
        "\n",
        "> First, a model is fit on the dataset, such as a model that does not support native feature importance scores. \n",
        "> Then the model is used to make predictions on a dataset, although the values of a feature (column) in the dataset are scrambled. This is repeated for each feature in the dataset.\n",
        ">  Then this whole process is repeated 3, 5, 10 or more times. The result is a mean importance score for each input feature (and distribution of scores given the repeats).\n",
        "\n",
        "**where and how?**\n",
        "- This approach can be used for **regression or classification**.\n",
        "- **requires that a performance metric** be chosen as the basis of the **importance score**, such as:\n",
        "  - **regression** : mean squared error\n",
        "  - **classification**: accuracy\n",
        "\n",
        "- Permutation feature selection can be used via the **permutation_importance()** function that takes a fit model, a dataset (**train** or **test** dataset is fine), and a **scoring function**.\n",
        "\n",
        "- Let’s take a look at this approach to feature selection with an algorithm that does not support feature selection natively, specifically **k-nearest neighbors**.\n",
        "\n"
      ]
    },
    {
      "cell_type": "code",
      "metadata": {
        "id": "wm0BAgGpZ_QP",
        "colab_type": "code",
        "colab": {
          "base_uri": "https://localhost:8080/",
          "height": 500
        },
        "outputId": "916aa306-33d4-46e4-b93b-00861b056ed5"
      },
      "source": [
        "# define the KNN regression instance\n",
        "knn_reg = KNeighborsRegressor()\n",
        "\n",
        "# fit the model with the regression dataset X_r and y_r\n",
        "knn_reg.fit(X_r, y_r)\n",
        "\n",
        "# get importance via the permutation_importance function\n",
        "knn_reg_results = permutation_importance(knn_reg, X_r, y_r, scoring='neg_mean_squared_error', n_jobs=-1)\n",
        "knn_reg_importance = knn_reg_results.importances_mean\n",
        "\n",
        "# show summary of feature importance\n",
        "show_feature_importance(knn_reg_importance, X_r, 'permutation_importance with KNeighborsRegressor model')\n"
      ],
      "execution_count": 118,
      "outputs": [
        {
          "output_type": "stream",
          "text": [
            "Feature 1 : 155.24451457715395 \n",
            "Feature 2 : 363.0628339438763 \n",
            "Feature 3 : 156.15478193207764 \n",
            "Feature 4 : 37.90738516203537 \n",
            "Feature 5 : 9313.318971870336 \n",
            "Feature 6 : 8023.842031013347 \n",
            "Feature 7 : 933.7098103230179 \n",
            "Feature 8 : 120.14445156798429 \n",
            "Feature 9 : 77.35946549457967 \n",
            "Feature 10 : 98.63404535084055 \n"
          ],
          "name": "stdout"
        },
        {
          "output_type": "display_data",
          "data": {
            "image/png": "[encoded data removed]",
            "text/plain": [
              "<Figure size 432x288 with 1 Axes>"
            ]
          },
          "metadata": {
            "tags": []
          }
        }
      ]
    },
    {
      "cell_type": "markdown",
      "metadata": {
        "id": "Rii0Qbo7g8Wl",
        "colab_type": "text"
      },
      "source": [
        "**Report**\n",
        "\n",
        "The results suggest perhaps 2 or 3 of the 10 features as being important to prediction.\n",
        "- Namely feature **x_reg_5** and **x_reg_6** "
      ]
    },
    {
      "cell_type": "markdown",
      "metadata": {
        "id": "VEBkI6UshdEi",
        "colab_type": "text"
      },
      "source": [
        "## Further Reading and acknowledgements\n",
        "\n",
        "> Thanks to [machine learning mastery](https://machinelearningmastery.com/)\n",
        "\n",
        "> more resources on the topic if you are looking to go deeper.\n",
        "- [An Introduction to Feature Selection](https://machinelearningmastery.com/an-introduction-to-feature-selection/)\n",
        "- [How to Perform Feature Selection with Categorical Data](https://machinelearningmastery.com/feature-selection-with-categorical-data/)\n",
        "- [How to Choose a Feature Selection Method For Machine Learning](https://machinelearningmastery.com/feature-selection-with-real-and-categorical-data/)"
      ]
    }
  ]
}