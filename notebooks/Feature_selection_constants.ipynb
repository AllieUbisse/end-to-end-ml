{
  "nbformat": 4,
  "nbformat_minor": 0,
  "metadata": {
    "colab": {
      "name": "Feature_selection_constants.ipynb",
      "provenance": [],
      "collapsed_sections": [
        "5ylaPYkSpPm-",
        "AL34x3_motI4",
        "z2kphtCK8-pN"
      ],
      "toc_visible": true,
      "authorship_tag": "ABX9TyN1oAKqjtEtq3L30GfBJSBw",
      "include_colab_link": true
    },
    "kernelspec": {
      "name": "python3",
      "display_name": "Python 3"
    }
  },
  "cells": [
    {
      "cell_type": "markdown",
      "metadata": {
        "id": "view-in-github",
        "colab_type": "text"
      },
      "source": [
        "<a href=\"https://colab.research.google.com/github/AllieUbisse/end-to-end-ml/blob/master/notebooks/Feature_selection_constants.ipynb\" target=\"_parent\"><img src=\"https://colab.research.google.com/assets/colab-badge.svg\" alt=\"Open In Colab\"/></a>"
      ]
    },
    {
      "cell_type": "markdown",
      "metadata": {
        "id": "5ylaPYkSpPm-",
        "colab_type": "text"
      },
      "source": [
        "# DOWNLOADS"
      ]
    },
    {
      "cell_type": "code",
      "metadata": {
        "id": "v5dQFXW3pUf8",
        "colab_type": "code",
        "colab": {
          "base_uri": "https://localhost:8080/",
          "height": 222
        },
        "outputId": "4ef21cd1-6815-4bcd-b4fe-99d72253dfa8"
      },
      "source": [
        "!wget --header=\"Host: storage.googleapis.com\" --header=\"User-Agent: Mozilla/5.0 (Windows NT 10.0; Win64; x64) AppleWebKit/537.36 (KHTML, like Gecko) Chrome/80.0.3987.163 Safari/537.36\" --header=\"Accept: text/html,application/xhtml+xml,application/xml;q=0.9,image/webp,image/apng,*/*;q=0.8,application/signed-exchange;v=b3;q=0.9\" --header=\"Accept-Language: en-US,en;q=0.9\" --header=\"Referer: https://www.kaggle.com/\" \"https://storage.googleapis.com/kagglesdsdata/competitions/4986/860641/sample_submission.csv?GoogleAccessId=web-data@kaggle-161607.iam.gserviceaccount.com&Expires=1586908286&Signature=ZSfieiZ%2BXgV9Hv4%2BBZ7OiNSSgDrtO9Rxg7nlrFuKqeOMDVWw5f6uUl%2Bqv4YF6oStpAdklHa7%2FrLZSkruhlRIVuNU%2F%2B9kD2KGPTbdZMFxLq7%2ByBpOcdYnbuzB0eReH01XsqrXRY9XXRSmOdx16wSb6l%2B8S2lHwqF%2FVfe%2FOmNTeZmT0LBH7k5YAsecheCBWhUyGNUHvBEEVLEtWNRb1pg%2B%2FNLt%2FCpBBLTUAHguKM2LlA1xnG%2BImrS%2BKrQm9DRAEYBMvPhcNOKqqL95gjtXYMEWalpLrI0BDT%2BJattMh32WegNde%2FPDnk1uYBQiGQy%2BEOqBzPy0xNX8twRZV4zmaZT9aQ%3D%3D&response-content-disposition=attachment%3B+filename%3Dsample_submission.csv\" -c -O 'sample_submission.csv'"
      ],
      "execution_count": 3,
      "outputs": [
        {
          "output_type": "stream",
          "text": [
            "--2020-04-11 23:58:44--  https://storage.googleapis.com/kagglesdsdata/competitions/4986/860641/sample_submission.csv?GoogleAccessId=web-data@kaggle-161607.iam.gserviceaccount.com&Expires=1586908286&Signature=ZSfieiZ%2BXgV9Hv4%2BBZ7OiNSSgDrtO9Rxg7nlrFuKqeOMDVWw5f6uUl%2Bqv4YF6oStpAdklHa7%2FrLZSkruhlRIVuNU%2F%2B9kD2KGPTbdZMFxLq7%2ByBpOcdYnbuzB0eReH01XsqrXRY9XXRSmOdx16wSb6l%2B8S2lHwqF%2FVfe%2FOmNTeZmT0LBH7k5YAsecheCBWhUyGNUHvBEEVLEtWNRb1pg%2B%2FNLt%2FCpBBLTUAHguKM2LlA1xnG%2BImrS%2BKrQm9DRAEYBMvPhcNOKqqL95gjtXYMEWalpLrI0BDT%2BJattMh32WegNde%2FPDnk1uYBQiGQy%2BEOqBzPy0xNX8twRZV4zmaZT9aQ%3D%3D&response-content-disposition=attachment%3B+filename%3Dsample_submission.csv\n",
            "Resolving storage.googleapis.com (storage.googleapis.com)... 173.194.213.128, 2607:f8b0:400c:c07::80\n",
            "Connecting to storage.googleapis.com (storage.googleapis.com)|173.194.213.128|:443... connected.\n",
            "HTTP request sent, awaiting response... 200 OK\n",
            "Length: 626900 (612K) [application/octet-stream]\n",
            "Saving to: ‘sample_submission.csv’\n",
            "\n",
            "\rsample_submission.c   0%[                    ]       0  --.-KB/s               \rsample_submission.c 100%[===================>] 612.21K  --.-KB/s    in 0.005s  \n",
            "\n",
            "2020-04-11 23:58:44 (115 MB/s) - ‘sample_submission.csv’ saved [626900/626900]\n",
            "\n"
          ],
          "name": "stdout"
        }
      ]
    },
    {
      "cell_type": "code",
      "metadata": {
        "id": "Er4jv4l-qAsw",
        "colab_type": "code",
        "colab": {
          "base_uri": "https://localhost:8080/",
          "height": 222
        },
        "outputId": "ba8578fe-a283-4cbe-9334-d5d3caaf8a16"
      },
      "source": [
        "!wget --header=\"Host: storage.googleapis.com\" --header=\"User-Agent: Mozilla/5.0 (Windows NT 10.0; Win64; x64) AppleWebKit/537.36 (KHTML, like Gecko) Chrome/80.0.3987.163 Safari/537.36\" --header=\"Accept: text/html,application/xhtml+xml,application/xml;q=0.9,image/webp,image/apng,*/*;q=0.8,application/signed-exchange;v=b3;q=0.9\" --header=\"Accept-Language: en-US,en;q=0.9\" --header=\"Referer: https://www.kaggle.com/\" \"https://storage.googleapis.com/kaggle-competitions-data/kaggle-v2/4986/860641/compressed/train.csv.zip?GoogleAccessId=web-data@kaggle-161607.iam.gserviceaccount.com&Expires=1586908352&Signature=fZoSvfGctT7vDM9YYHXEuCQBpca%2BCklU%2B6mEBcNYTdHh4rdaoA%2FyHqt7vjLJXjmXUrcUWzmctUTj%2BmtW12n9P3t%2FHNKxhnySdzkKOe7w80FGy%2BdP06G0fIUvIg7ALnXFkbfNcn5FmrQNYBRUbsCRX577EhI2sh7uvaHJ2vSsw48gXZ68lxFWvqqKsqZpQuI7v4vcjJb2QnfdoQT0jRDYYaluK3vqI26Eyy5%2FUq0PcBu5wvmYEHdNvcZlccd0OYZFTKe6lLXhPzE7zFdwmZanGShkwjvNj%2FyHY4val5AvLvzrXk9x5pSfrbYvHWobOoQ%2BetQZB7GLKh5vWghb8I%2Bb1g%3D%3D&response-content-disposition=attachment%3B+filename%3Dtrain.csv.zip\" -c -O 'train.csv.zip'"
      ],
      "execution_count": 4,
      "outputs": [
        {
          "output_type": "stream",
          "text": [
            "--2020-04-11 23:58:48--  https://storage.googleapis.com/kaggle-competitions-data/kaggle-v2/4986/860641/compressed/train.csv.zip?GoogleAccessId=web-data@kaggle-161607.iam.gserviceaccount.com&Expires=1586908352&Signature=fZoSvfGctT7vDM9YYHXEuCQBpca%2BCklU%2B6mEBcNYTdHh4rdaoA%2FyHqt7vjLJXjmXUrcUWzmctUTj%2BmtW12n9P3t%2FHNKxhnySdzkKOe7w80FGy%2BdP06G0fIUvIg7ALnXFkbfNcn5FmrQNYBRUbsCRX577EhI2sh7uvaHJ2vSsw48gXZ68lxFWvqqKsqZpQuI7v4vcjJb2QnfdoQT0jRDYYaluK3vqI26Eyy5%2FUq0PcBu5wvmYEHdNvcZlccd0OYZFTKe6lLXhPzE7zFdwmZanGShkwjvNj%2FyHY4val5AvLvzrXk9x5pSfrbYvHWobOoQ%2BetQZB7GLKh5vWghb8I%2Bb1g%3D%3D&response-content-disposition=attachment%3B+filename%3Dtrain.csv.zip\n",
            "Resolving storage.googleapis.com (storage.googleapis.com)... 173.194.214.128, 2607:f8b0:400c:c07::80\n",
            "Connecting to storage.googleapis.com (storage.googleapis.com)|173.194.214.128|:443... connected.\n",
            "HTTP request sent, awaiting response... 200 OK\n",
            "Length: 4249434 (4.1M) [application/zip]\n",
            "Saving to: ‘train.csv.zip’\n",
            "\n",
            "\rtrain.csv.zip         0%[                    ]       0  --.-KB/s               \rtrain.csv.zip       100%[===================>]   4.05M  --.-KB/s    in 0.06s   \n",
            "\n",
            "2020-04-11 23:58:48 (65.3 MB/s) - ‘train.csv.zip’ saved [4249434/4249434]\n",
            "\n"
          ],
          "name": "stdout"
        }
      ]
    },
    {
      "cell_type": "code",
      "metadata": {
        "id": "BNFNyr_dq5kQ",
        "colab_type": "code",
        "colab": {
          "base_uri": "https://localhost:8080/",
          "height": 0
        },
        "outputId": "3267a807-4c76-4f7d-e0f6-d2a368765101"
      },
      "source": [
        "!wget --header=\"Host: storage.googleapis.com\" --header=\"User-Agent: Mozilla/5.0 (Windows NT 10.0; Win64; x64) AppleWebKit/537.36 (KHTML, like Gecko) Chrome/80.0.3987.163 Safari/537.36\" --header=\"Accept: text/html,application/xhtml+xml,application/xml;q=0.9,image/webp,image/apng,*/*;q=0.8,application/signed-exchange;v=b3;q=0.9\" --header=\"Accept-Language: en-US,en;q=0.9\" --header=\"Referer: https://www.kaggle.com/\" \"https://storage.googleapis.com/kaggle-competitions-data/kaggle-v2/4986/860641/compressed/test.csv.zip?GoogleAccessId=web-data@kaggle-161607.iam.gserviceaccount.com&Expires=1586908551&Signature=rnf%2FKtyXjgJXN%2FuTaL7tNgXcAqNQeKr%2Fk0562Vq4pOuAp%2BZ%2FbFt40Z4wQxZTJKxTGpppBjLiu%2FKWi2B8HuT17i278%2Fwgv2JkWvrLsJHS6Ze1YunXSDnvxtvyF5%2BCNWtTY4i7cfN%2B1R3oP8DeMtpzOytuKQSfPHt5Aw0t23JS%2Fehk%2BwUxFmJGRX4ppLJCpUDA0UPs4o1MW2DxPDyMqjgS4fmdvCP7WKV7%2FVV5ArnxgO%2Fd0vzfSUWi6xuai0Fl5FvQvC56DsuRsktYVRWOLP9404vPPb4S4nU331qDaDLgRBqn2emneW8Pe9M344vTCkzWbCBlE8oHX5rcRKpTCqvhMg%3D%3D&response-content-disposition=attachment%3B+filename%3Dtest.csv.zip\" -c -O 'test.csv.zip'"
      ],
      "execution_count": 5,
      "outputs": [
        {
          "output_type": "stream",
          "text": [
            "--2020-04-11 23:58:51--  https://storage.googleapis.com/kaggle-competitions-data/kaggle-v2/4986/860641/compressed/test.csv.zip?GoogleAccessId=web-data@kaggle-161607.iam.gserviceaccount.com&Expires=1586908551&Signature=rnf%2FKtyXjgJXN%2FuTaL7tNgXcAqNQeKr%2Fk0562Vq4pOuAp%2BZ%2FbFt40Z4wQxZTJKxTGpppBjLiu%2FKWi2B8HuT17i278%2Fwgv2JkWvrLsJHS6Ze1YunXSDnvxtvyF5%2BCNWtTY4i7cfN%2B1R3oP8DeMtpzOytuKQSfPHt5Aw0t23JS%2Fehk%2BwUxFmJGRX4ppLJCpUDA0UPs4o1MW2DxPDyMqjgS4fmdvCP7WKV7%2FVV5ArnxgO%2Fd0vzfSUWi6xuai0Fl5FvQvC56DsuRsktYVRWOLP9404vPPb4S4nU331qDaDLgRBqn2emneW8Pe9M344vTCkzWbCBlE8oHX5rcRKpTCqvhMg%3D%3D&response-content-disposition=attachment%3B+filename%3Dtest.csv.zip\n",
            "Resolving storage.googleapis.com (storage.googleapis.com)... 172.217.204.128, 2607:f8b0:400c:c12::80\n",
            "Connecting to storage.googleapis.com (storage.googleapis.com)|172.217.204.128|:443... connected.\n",
            "HTTP request sent, awaiting response... 200 OK\n",
            "Length: 4218360 (4.0M) [application/zip]\n",
            "Saving to: ‘test.csv.zip’\n",
            "\n",
            "\rtest.csv.zip          0%[                    ]       0  --.-KB/s               \rtest.csv.zip        100%[===================>]   4.02M  --.-KB/s    in 0.02s   \n",
            "\n",
            "2020-04-11 23:58:51 (221 MB/s) - ‘test.csv.zip’ saved [4218360/4218360]\n",
            "\n"
          ],
          "name": "stdout"
        }
      ]
    },
    {
      "cell_type": "markdown",
      "metadata": {
        "id": "AL34x3_motI4",
        "colab_type": "text"
      },
      "source": [
        "# Imports"
      ]
    },
    {
      "cell_type": "code",
      "metadata": {
        "id": "XVwPnJSreBOq",
        "colab_type": "code",
        "colab": {}
      },
      "source": [
        "import pandas as pd\n",
        "import numpy as np\n",
        "import zipfile\n",
        "\n",
        "# model selection\n",
        "from sklearn.model_selection import train_test_split\n",
        "\n",
        "# feature selection\n",
        "from sklearn.feature_selection import VarianceThreshold"
      ],
      "execution_count": 0,
      "outputs": []
    },
    {
      "cell_type": "markdown",
      "metadata": {
        "id": "a_XZZryTrhVO",
        "colab_type": "text"
      },
      "source": [
        "# Load data"
      ]
    },
    {
      "cell_type": "code",
      "metadata": {
        "id": "1_R9fgHJrqGl",
        "colab_type": "code",
        "colab": {}
      },
      "source": [
        "def pandas_zipReader(file_path, inside_name, index_col=''):\n",
        "    \"\"\"pandas_zipReader(file_path, inside_name)\n",
        "\n",
        "      DESCRIPTION:\n",
        "      reads a ziped csv file\n",
        "\n",
        "      PARAMETERS: \n",
        "      file_path (string) : file path\n",
        "      inside_name (string) : name of the file inside the ziped file\n",
        "      \n",
        "    \"\"\"\n",
        "\n",
        "    # incase user did not import pandas\n",
        "    import pandas as pd \n",
        "\n",
        "    # read file path and unzip\n",
        "    zf = zipfile.ZipFile(file_path)\n",
        "\n",
        "    # open and read csv file\n",
        "    return pd.read_csv(zf.open(inside_name), index_col=index_col) if index_col else pd.read_csv(zf.open(inside_name)) \n"
      ],
      "execution_count": 0,
      "outputs": []
    },
    {
      "cell_type": "code",
      "metadata": {
        "id": "Qk72yQ6rvXOL",
        "colab_type": "code",
        "colab": {
          "base_uri": "https://localhost:8080/",
          "height": 34
        },
        "outputId": "9e374430-91aa-4553-ec73-64521243e1a0"
      },
      "source": [
        "# define file paths\n",
        "train_path = '/content/train.csv.zip'\n",
        "test_path = '/content/test.csv.zip'\n",
        "\n",
        "# unzip and read file\n",
        "train = pandas_zipReader(train_path, 'train.csv', index_col='ID')\n",
        "test = pandas_zipReader(test_path, 'test.csv', index_col='ID')\n",
        "\n",
        "test.shape, train.shape "
      ],
      "execution_count": 29,
      "outputs": [
        {
          "output_type": "execute_result",
          "data": {
            "text/plain": [
              "((75818, 369), (76020, 370))"
            ]
          },
          "metadata": {
            "tags": []
          },
          "execution_count": 29
        }
      ]
    },
    {
      "cell_type": "markdown",
      "metadata": {
        "id": "z2kphtCK8-pN",
        "colab_type": "text"
      },
      "source": [
        "# Data Preprocessing"
      ]
    },
    {
      "cell_type": "code",
      "metadata": {
        "id": "otF4lb7T5cjd",
        "colab_type": "code",
        "colab": {
          "base_uri": "https://localhost:8080/",
          "height": 34
        },
        "outputId": "ed6b10e0-66a5-41f3-82e1-5dc3b9c24eea"
      },
      "source": [
        "# separate target from predictors\n",
        "X = train.drop('TARGET', axis=1)\n",
        "y = train['TARGET']\n",
        "\n",
        "# split data into train and test\n",
        "X_train, X_val, y_train, y_val = train_test_split(X, y, test_size=0.30, random_state=1996)\n",
        "\n",
        "# view dimension of train\n",
        "X_train.shape, X_val.shape"
      ],
      "execution_count": 37,
      "outputs": [
        {
          "output_type": "execute_result",
          "data": {
            "text/plain": [
              "((53214, 369), (22806, 369))"
            ]
          },
          "metadata": {
            "tags": []
          },
          "execution_count": 37
        }
      ]
    },
    {
      "cell_type": "code",
      "metadata": {
        "id": "gATOnFwh4L1H",
        "colab_type": "code",
        "colab": {
          "base_uri": "https://localhost:8080/",
          "height": 34
        },
        "outputId": "d45cc4ca-e573-4729-8a62-d3ecf8a5e338"
      },
      "source": [
        "# check missing values\n",
        "[col for col in train.columns if train[col].isnull().sum()>0]"
      ],
      "execution_count": 33,
      "outputs": [
        {
          "output_type": "execute_result",
          "data": {
            "text/plain": [
              "[]"
            ]
          },
          "metadata": {
            "tags": []
          },
          "execution_count": 33
        }
      ]
    },
    {
      "cell_type": "markdown",
      "metadata": {
        "id": "OyTGqgWnow0w",
        "colab_type": "text"
      },
      "source": [
        "# REMOVE CONSTANCE"
      ]
    },
    {
      "cell_type": "code",
      "metadata": {
        "id": "GYZEZ8XT63wE",
        "colab_type": "code",
        "colab": {
          "base_uri": "https://localhost:8080/",
          "height": 50
        },
        "outputId": "ac350043-8668-43a1-b6c0-4ec3363486cd"
      },
      "source": [
        "# define variance thresholf instance\n",
        "ver = VarianceThreshold(threshold=0)\n",
        "\n",
        "# fit the X_train\n",
        "ver.fit(X_train)\n",
        "\n",
        "# print length of the non constant features using get_support method\n",
        "print('non constant features: ', sum(ver.get_support()))\n",
        "\n",
        "# Sum all the columns from the X_train that are constant\n",
        "constant_features = [ col for col in X_train.columns if col not in X_train.columns[ver.get_support()]]\n",
        "print('constants features: ',len(constant_features))"
      ],
      "execution_count": 53,
      "outputs": [
        {
          "output_type": "stream",
          "text": [
            "non constant features:  335\n",
            "constants features:  34\n"
          ],
          "name": "stdout"
        }
      ]
    },
    {
      "cell_type": "code",
      "metadata": {
        "id": "XSKshUosA9Ku",
        "colab_type": "code",
        "colab": {}
      },
      "source": [
        "# manual way of getting the constant features\n",
        "const_features = [col for col in X_train.columns if X_train[col].std() ==0]"
      ],
      "execution_count": 0,
      "outputs": []
    },
    {
      "cell_type": "code",
      "metadata": {
        "id": "T5K0CSpuC_eH",
        "colab_type": "code",
        "colab": {
          "base_uri": "https://localhost:8080/",
          "height": 50
        },
        "outputId": "07593605-6887-4e02-910a-f02cb881e7f8"
      },
      "source": [
        "# fransform X_train and X_val\n",
        "# X_train_c = ver.transform(X_train)\n",
        "# X_val_c = ver.transform(X_val)\n",
        "X_train_c = X_train.drop(labels=constant_features, axis=1)\n",
        "X_val_c = X_val.drop(labels=constant_features, axis=1)\n",
        "\n",
        "\n",
        "print('No-constant features: ',X_train_c.shape)\n",
        "print('with constant features: ',X_train.shape)"
      ],
      "execution_count": 69,
      "outputs": [
        {
          "output_type": "stream",
          "text": [
            "No-constant features:  (53214, 335)\n",
            "with constant features:  (53214, 369)\n"
          ],
          "name": "stdout"
        }
      ]
    },
    {
      "cell_type": "markdown",
      "metadata": {
        "id": "9p0Fv6FWEn7J",
        "colab_type": "text"
      },
      "source": [
        "# Quasi-cosnstants"
      ]
    },
    {
      "cell_type": "code",
      "metadata": {
        "id": "GbMvgLbaEwTG",
        "colab_type": "code",
        "colab": {
          "base_uri": "https://localhost:8080/",
          "height": 34
        },
        "outputId": "3d9524fe-68b6-4477-a996-6bd0a24decc7"
      },
      "source": [
        "# define the VarianceThreshold for quasi-constants 99%\n",
        "ver_quasi = VarianceThreshold(threshold=0.01)\n",
        "\n",
        "# fit x_train_c\n",
        "ver_quasi.fit(X_train_c)\n",
        "\n",
        "# Sum all the features from the X_train_c that are quasi-constants 99%\n",
        "quasi_constant_features = [ col for col in X_train_c.columns if col not in X_train_c.columns[ver_quasi.get_support()]]\n",
        "print('constants features: ',len(quasi_constant_features))"
      ],
      "execution_count": 73,
      "outputs": [
        {
          "output_type": "stream",
          "text": [
            "constants features:  63\n"
          ],
          "name": "stdout"
        }
      ]
    },
    {
      "cell_type": "code",
      "metadata": {
        "id": "U52fylP7H1xd",
        "colab_type": "code",
        "colab": {}
      },
      "source": [
        "# fransform X_train and X_val\n",
        "X_train_c = ver_quasi.transform(X_train_c)\n",
        "X_val_c = ver_quasi.transform(X_val_c)\n",
        "\n"
      ],
      "execution_count": 0,
      "outputs": []
    },
    {
      "cell_type": "code",
      "metadata": {
        "id": "y4HV1m_7IUo7",
        "colab_type": "code",
        "colab": {
          "base_uri": "https://localhost:8080/",
          "height": 34
        },
        "outputId": "1cb3fe5a-b5e6-4b6f-eb0b-0a6c42fa3cf8"
      },
      "source": [
        "X_val_c.shape"
      ],
      "execution_count": 77,
      "outputs": [
        {
          "output_type": "execute_result",
          "data": {
            "text/plain": [
              "(22806, 272)"
            ]
          },
          "metadata": {
            "tags": []
          },
          "execution_count": 77
        }
      ]
    },
    {
      "cell_type": "markdown",
      "metadata": {
        "id": "rVR1pntkJU9b",
        "colab_type": "text"
      },
      "source": [
        "# Duplicates"
      ]
    }
  ]
}